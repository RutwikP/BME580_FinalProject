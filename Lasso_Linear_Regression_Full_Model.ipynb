{
 "cells": [
  {
   "cell_type": "code",
   "execution_count": 1,
   "metadata": {},
   "outputs": [],
   "source": [
    "import numpy as np\n",
    "import pandas as pd\n",
    "from sklearn.preprocessing import StandardScaler\n",
    "from sklearn.impute import SimpleImputer\n",
    "from sklearn.model_selection import train_test_split\n",
    "from sklearn.linear_model import Lasso\n",
    "from sklearn.linear_model import LassoCV\n",
    "from sklearn.metrics import classification_report, roc_curve, roc_auc_score\n",
    "import matplotlib.pyplot as plt\n",
    "\n",
    "pd.set_option('display.max_columns', None)\n",
    "\n"
   ]
  },
  {
   "cell_type": "code",
   "execution_count": 2,
   "metadata": {},
   "outputs": [],
   "source": [
    "#read in training file \n",
    "training_data = pd.read_csv('../Data/hip_fracture_training.csv')"
   ]
  },
  {
   "cell_type": "code",
   "execution_count": 3,
   "metadata": {},
   "outputs": [
    {
     "name": "stdout",
     "output_type": "stream",
     "text": [
      "HIP_PREOP_DEMENTIA\n",
      "HIP_PREOP_DELIRIUM\n",
      "HIP_PREOP_BONEMEDS\n",
      "HIP_PREOP_MOBAID\n",
      "HIP_PREOP_PRESSORE\n",
      "HIP_MED_COMGMT\n",
      "HIP_STDCARE\n",
      "HIP_WBAT_POD1\n",
      "HIP_DVT_28D\n",
      "HIP_FRACTYPE\n",
      "HIP_PATHFRAC\n",
      "HIP_POST_PRESSORE\n",
      "HIP_POST_DELIRIUM\n",
      "HIP_POST_MOBAID\n",
      "HIP_POST_BONEMEDS\n",
      "SEX\n",
      "RACE_NEW\n",
      "ETHNICITY_HISPANIC\n",
      "CPT\n",
      "WORKRVU\n",
      "INOUT\n",
      "TRANST\n",
      "AGE\n",
      "OPERYR\n",
      "DISCHDEST\n",
      "ANESTHES\n",
      "ELECTSURG\n",
      "HEIGHT\n",
      "WEIGHT\n",
      "DIABETES\n",
      "SMOKE\n",
      "DYSPNEA\n",
      "FNSTATUS2\n",
      "VENTILAT\n",
      "HXCOPD\n",
      "ASCITES\n",
      "HXCHF\n",
      "HYPERMED\n",
      "RENAFAIL\n",
      "DIALYSIS\n",
      "DISCANCR\n",
      "WNDINF\n",
      "STEROID\n",
      "WTLOSS\n",
      "BLEEDIS\n",
      "TRANSFUS\n",
      "PRSEPIS\n",
      "PRSODM\n",
      "PRBUN\n",
      "PRCREAT\n",
      "PRWBC\n",
      "PRHCT\n",
      "PRPLATE\n",
      "EMERGNCY\n",
      "ASACLAS\n",
      "OPTIME\n",
      "TOTHLOS\n",
      "ADMQTR\n",
      "HTOODAY\n",
      "NSUPINFEC\n",
      "SUPINFEC\n",
      "SSSIPATOS\n",
      "NWNDINFD\n",
      "WNDINFD\n",
      "DSSIPATOS\n",
      "NORGSPCSSI\n",
      "ORGSPCSSI\n",
      "OSSIPATOS\n",
      "NDEHIS\n",
      "DEHIS\n",
      "NOUPNEUMO\n",
      "OUPNEUMO\n",
      "PNAPATOS\n",
      "NREINTUB\n",
      "REINTUB\n",
      "NPULEMBOL\n",
      "PULEMBOL\n",
      "NFAILWEAN\n",
      "FAILWEAN\n",
      "VENTPATOS\n",
      "NRENAINSF\n",
      "RENAINSF\n",
      "NOPRENAFL\n",
      "OPRENAFL\n",
      "NURNINFEC\n",
      "URNINFEC\n",
      "UTIPATOS\n",
      "NCNSCVA\n",
      "CNSCVA\n",
      "NCDARREST\n",
      "CDARREST\n",
      "NCDMI\n",
      "CDMI\n",
      "NOTHBLEED\n",
      "OTHBLEED\n",
      "NOTHDVT\n",
      "OTHDVT\n",
      "NOTHSYSEP\n",
      "OTHSYSEP\n",
      "SEPSISPATOS\n",
      "NOTHSESHOCK\n",
      "OTHSESHOCK\n",
      "SEPSHOCKPATOS\n",
      "RETURNOR\n",
      "DOPTODIS\n",
      "OTHCDIFF\n",
      "GenderData_1\n",
      "GenderData_2\n",
      "GenderData_3\n",
      "RaceData_4\n",
      "RaceData_5\n",
      "RaceData_Black\n",
      "RaceData_7\n",
      "RaceData_8\n",
      "RaceData_9\n",
      "RaceData_10\n",
      "RaceData_11\n",
      "Ethnicity_14\n",
      "TransferStatus_15\n",
      "TransferStatus_16\n",
      "TransferStatus_17\n",
      "TransferStatus_18\n",
      "TransferStatus_19\n",
      "TransferStatus_20\n",
      "DispoLocationPost_21\n",
      "DispoLocationPost_22\n",
      "DispoLocationPost_23\n",
      "DispoLocationPost_24\n",
      "DispoLocationPost_25\n",
      "DispoLocationPost_26\n",
      "DispoLocationPost_27\n",
      "DispoLocationPost_28\n",
      "DispoLocationPost_29\n",
      "DispoLocationPost_30\n",
      "DispoLocationPost_31\n",
      "DispoLocationPost_32\n",
      "SmokePre_37\n",
      "DyspneaPre_38\n",
      "DyspneaPre_39\n",
      "DyspneaPre_40\n",
      "FncStatusPre_41\n",
      "FncStatusPre_42\n",
      "FncStatusPre_43\n",
      "FncStatusPre_44\n",
      "VentDepPre_46\n",
      "COPDPre_48\n",
      "AscitesPre_50\n",
      "CHFPre_52\n",
      "HTNPre_54\n",
      "DialysisPre_56\n",
      "CancerPre_58\n",
      "WoundInfectionPre_60\n",
      "SteroidPre_62\n",
      "WtLossPre_64\n",
      "BleedingDisPre_66\n",
      "TfnPre_68\n",
      "SepsisPre_69\n",
      "SepsisPre_70\n",
      "SepsisPre_71\n",
      "SepsisPre_72\n",
      "ASAPre_73\n",
      "ASAPre_74\n",
      "ASAPre_75\n",
      "ASAPre_76\n",
      "ASAPre_77\n",
      "ASAPre_78\n",
      "SSIPost_80\n",
      "DeepSSIPost_81\n",
      "OrganSpacePost_84\n",
      "WoundDisruptionPost_86\n",
      "PneumoniaPost_88\n",
      "ReintubPost_90\n",
      "PulmEmbPost_92\n",
      "VentPost_94\n",
      "ProgRenalPost_96\n",
      "AcuterenalPost_97\n",
      "UTIPost_100\n",
      "CardiacArrestPost_103\n",
      "MIPost_105\n",
      "BleedingTfnPost_108\n",
      "DVTPost_109\n",
      "SepsisPost_112\n",
      "SepticShockPost_114\n",
      "ReOPPost_116\n",
      "BMI\n",
      "ObesityBinary\n",
      "CardiacComplications\n",
      "InfectiousComplications\n",
      "Stroke_2\n",
      "PreOpDementia_2\n",
      "PreOpDelirium_5\n",
      "PreOpBoneMeds_7\n",
      "PreOpMOBAID_10\n",
      "PreOpPressSore_12\n",
      "MEDMGMT_13\n",
      "MEDMGMT_14\n",
      "MEDMGMT_15\n",
      "StandardHip_17\n",
      "WBATPOD1_18\n",
      "WBATPOD1_21\n",
      "DVTProphylaxisPost28_24\n",
      "PostOpPRESSORE_26\n",
      "PostOpDelirium_29\n",
      "PostOpMobAid_33\n",
      "PostOpBoneMed_35\n",
      "HipFractureType_44\n",
      "HipFractureType_45\n",
      "HipFractureType_46\n",
      "HipFractureType_47\n",
      "HipFractureType_48\n",
      "PathologicHipFractures_49\n",
      "PathologicHipFractures_50\n",
      "PathologicHipFractures_51\n",
      "MinorityPatient\n",
      "DischargeNotHome\n",
      "PartialorFullFuncStatus\n",
      "DiabetesBinary\n",
      "MFI5\n",
      "READMISSION30D\n"
     ]
    }
   ],
   "source": [
    "for col in training_data.columns:\n",
    "    print(col)\n"
   ]
  },
  {
   "attachments": {},
   "cell_type": "markdown",
   "metadata": {},
   "source": [
    "## Cell is just for storing information - does not do anything\n"
   ]
  },
  {
   "cell_type": "code",
   "execution_count": 4,
   "metadata": {},
   "outputs": [],
   "source": [
    "#pot operative models \n",
    "#vector to keep track of what we are dropping\n",
    "store_dropped_post = ['VentPost_94', 'CardiacArrestPost_103', 'AcuterenalPost_97', 'WoundDisruptionPost_86',  'SSIPost_80', 'PostOpMobAid_33', 'PostOpBoneMed_35']\n",
    "\n",
    "post_cols = [\n",
    "   'DeepSSIPost_81', 'OrganSpacePost_84', 'PneumoniaPost_88', 'ReintubPost_90', 'PulmEmbPost_92', \n",
    "    'ProgRenalPost_96', 'UTIPost_100', 'MIPost_105', 'BleedingTfnPost_108', 'DVTPost_109', \n",
    "    'DVTProphylaxisPost','SepsisPost_112','ReOPPost_116', 'CardiacComplications', \n",
    "    'InfectiousComplications', 'Stroke_2', 'WBATPOD1_21', 'PostOpPRESSORE_26', 'PostOpDelirium_29']\n",
    "\n",
    "#pre-operative columns - keep all for now because I want to see interactions\n",
    "preop_cols = ['PRSODM', 'PRBUN', 'PRCREAT', 'PRWBC', 'PRHCT', 'PRPLATE', \n",
    "              'SmokePre_37', 'DyspneaPre_38', 'DyspneaPre_39', 'DyspneaPre_40', \n",
    "              'FncStatusPre_41', 'FncStatusPre_42', 'FncStatusPre_43', 'FncStatusPre_44', \n",
    "              'VentDepPre_46', 'COPDPre_48', 'AscitesPre_50', 'CHFPre_52', 'HTNPre_54', \n",
    "              'DialysisPre_56', 'CancerPre_58', 'WoundInfectionPre_60', 'SteroidPre_62', \n",
    "              'WtLossPre_64', 'BleedingDisPre_66', 'TfnPre_68', 'SepsisPre_69', 'SepsisPre_70', \n",
    "              'SepsisPre_71', 'SepsisPre_72', 'ASAPre_73', 'ASAPre_74', 'ASAPre_75', 'ASAPre_76', \n",
    "              'ASAPre_77', 'ASAPre_78', 'PreOpDementia_2', 'PreOpDelirium_5', 'PreOpBoneMeds_7', \n",
    "              'PreOpMOBAID_10', 'PreOpPressSore_12', 'PartialorFullFuncStatus', 'DiabetesBinary',\n",
    "              'MFI5','READMISSION30D']\n",
    "\n",
    "#peri-operative columns - \n",
    "peri_dropped = ['DispoLocationPost_21', 'DispoLocationPost_22', 'DispoLocationPost_26', 'DispoLocationPost_29', 'DispoLocationPost_32', 'TransferStatus_19', 'TransferStatus_20',\n",
    "     'DispoLocationPost_23', 'DispoLocationPost_24', 'PathologicHipFractures_49', 'PathologicHipFractures_50', ]\n",
    "\n",
    "#adding LOS, \n",
    "peri_cols = ['TransferStatus_17', 'TransferStatus_18','DispoLocationPost_28',\n",
    "             'DispoLocationPost_30', 'MEDMGMT_14', 'StandardHip_17', 'HipFractureType_44',\n",
    "             'HipFractureType_45', 'HipFractureType_46', 'HipFractureType_47', 'HipFractureType_48',\n",
    "              'PathologicHipFractures_51', 'INOUT', 'EMERGNCY', 'OPTIME', 'TOTLOS', 'HTOODAY' ]\n",
    "\n",
    "#demographic columns\n",
    "dem_cols = ['ObesityBinary', 'MinorityPatient', 'AGE', 'Ethnicity_14', 'GenderData_1', 'GenderData_2', 'GenderData_3', 'RaceData_4', \n",
    "'RaceData_5', 'RaceData_Black', 'RaceData_7', 'RaceData_8', 'RaceData_9','RaceData_10', 'RaceData_11' ]\n",
    "\n",
    "\n"
   ]
  },
  {
   "cell_type": "code",
   "execution_count": 5,
   "metadata": {},
   "outputs": [],
   "source": [
    "full_cols = ['DeepSSIPost_81', 'OrganSpacePost_84', 'PneumoniaPost_88', 'ReintubPost_90', 'PulmEmbPost_92', \n",
    "    'ProgRenalPost_96', 'UTIPost_100', 'MIPost_105', 'BleedingTfnPost_108', 'DVTPost_109', \n",
    "    'DVTProphylaxisPost28_24','SepsisPost_112','ReOPPost_116', 'CardiacComplications', \n",
    "    'InfectiousComplications', 'Stroke_2', 'WBATPOD1_21', 'PostOpPRESSORE_26', 'PostOpDelirium_29', \n",
    "    'PRSODM', 'PRBUN', 'PRCREAT', 'PRWBC', 'PRHCT', 'PRPLATE', \n",
    "    'SmokePre_37', 'DyspneaPre_38', 'DyspneaPre_39', 'DyspneaPre_40', \n",
    "    'FncStatusPre_41', 'FncStatusPre_42', 'FncStatusPre_43', 'FncStatusPre_44', \n",
    "    'VentDepPre_46', 'COPDPre_48', 'AscitesPre_50', 'CHFPre_52', 'HTNPre_54', \n",
    "    'DialysisPre_56', 'CancerPre_58', 'WoundInfectionPre_60', 'SteroidPre_62', \n",
    "    'WtLossPre_64', 'BleedingDisPre_66', 'TfnPre_68', 'SepsisPre_69', 'SepsisPre_70', \n",
    "    'SepsisPre_71', 'SepsisPre_72', 'ASAPre_73', 'ASAPre_74', 'ASAPre_75', 'ASAPre_76', \n",
    "    'ASAPre_77', 'ASAPre_78', 'PreOpDementia_2', 'PreOpDelirium_5', 'PreOpBoneMeds_7', \n",
    "    'PreOpMOBAID_10', 'PreOpPressSore_12', 'PartialorFullFuncStatus', 'DiabetesBinary','MFI5', \n",
    "    'ObesityBinary', 'MinorityPatient', 'AGE', 'Ethnicity_14', 'GenderData_1', 'GenderData_2', \n",
    "    'GenderData_3', 'RaceData_4', 'RaceData_5', 'RaceData_Black', \n",
    "    'RaceData_7', 'RaceData_8', 'RaceData_9','RaceData_10', 'RaceData_11', 'TransferStatus_17', \n",
    "    'TransferStatus_18','DispoLocationPost_28','DispoLocationPost_30', 'MEDMGMT_14', \n",
    "    'StandardHip_17', 'HipFractureType_44','HipFractureType_45', 'HipFractureType_46', \n",
    "    'HipFractureType_47', 'HipFractureType_48','PathologicHipFractures_51', \n",
    "    'INOUT', 'EMERGNCY', 'OPTIME', 'TOTHLOS', 'HTOODAY','READMISSION30D']\n",
    "\n",
    "def filter_data(df, cols): \n",
    "\n",
    "    #filters for only the preoperative columns\n",
    "    df_full = df[cols]\n",
    "\n",
    "    return df_full   \n",
    "\n",
    "full_df = filter_data(training_data, full_cols)"
   ]
  },
  {
   "cell_type": "code",
   "execution_count": 6,
   "metadata": {},
   "outputs": [
    {
     "data": {
      "text/plain": [
       "(29188, 96)"
      ]
     },
     "metadata": {},
     "output_type": "display_data"
    },
    {
     "data": {
      "text/plain": [
       "DeepSSIPost_81       0\n",
       "OrganSpacePost_84    0\n",
       "PneumoniaPost_88     0\n",
       "ReintubPost_90       0\n",
       "PulmEmbPost_92       0\n",
       "                    ..\n",
       "EMERGNCY             0\n",
       "OPTIME               0\n",
       "TOTHLOS              0\n",
       "HTOODAY              0\n",
       "READMISSION30D       0\n",
       "Length: 96, dtype: int64"
      ]
     },
     "metadata": {},
     "output_type": "display_data"
    },
    {
     "name": "stdout",
     "output_type": "stream",
     "text": [
      "<class 'pandas.core.frame.DataFrame'>\n",
      "RangeIndex: 29188 entries, 0 to 29187\n",
      "Data columns (total 96 columns):\n",
      " #   Column                     Non-Null Count  Dtype  \n",
      "---  ------                     --------------  -----  \n",
      " 0   DeepSSIPost_81             29188 non-null  int64  \n",
      " 1   OrganSpacePost_84          29188 non-null  int64  \n",
      " 2   PneumoniaPost_88           29188 non-null  int64  \n",
      " 3   ReintubPost_90             29188 non-null  int64  \n",
      " 4   PulmEmbPost_92             29188 non-null  int64  \n",
      " 5   ProgRenalPost_96           29188 non-null  int64  \n",
      " 6   UTIPost_100                29188 non-null  int64  \n",
      " 7   MIPost_105                 29188 non-null  int64  \n",
      " 8   BleedingTfnPost_108        29188 non-null  int64  \n",
      " 9   DVTPost_109                29188 non-null  int64  \n",
      " 10  DVTProphylaxisPost28_24    29188 non-null  int64  \n",
      " 11  SepsisPost_112             29188 non-null  int64  \n",
      " 12  ReOPPost_116               29188 non-null  int64  \n",
      " 13  CardiacComplications       29188 non-null  int64  \n",
      " 14  InfectiousComplications    29188 non-null  int64  \n",
      " 15  Stroke_2                   29188 non-null  int64  \n",
      " 16  WBATPOD1_21                29188 non-null  int64  \n",
      " 17  PostOpPRESSORE_26          29188 non-null  int64  \n",
      " 18  PostOpDelirium_29          29188 non-null  int64  \n",
      " 19  PRSODM                     29188 non-null  float64\n",
      " 20  PRBUN                      29188 non-null  float64\n",
      " 21  PRCREAT                    29188 non-null  float64\n",
      " 22  PRWBC                      29188 non-null  float64\n",
      " 23  PRHCT                      29188 non-null  float64\n",
      " 24  PRPLATE                    29188 non-null  float64\n",
      " 25  SmokePre_37                29188 non-null  int64  \n",
      " 26  DyspneaPre_38              29188 non-null  int64  \n",
      " 27  DyspneaPre_39              29188 non-null  int64  \n",
      " 28  DyspneaPre_40              29188 non-null  int64  \n",
      " 29  FncStatusPre_41            29188 non-null  int64  \n",
      " 30  FncStatusPre_42            29188 non-null  int64  \n",
      " 31  FncStatusPre_43            29188 non-null  int64  \n",
      " 32  FncStatusPre_44            29188 non-null  int64  \n",
      " 33  VentDepPre_46              29188 non-null  int64  \n",
      " 34  COPDPre_48                 29188 non-null  int64  \n",
      " 35  AscitesPre_50              29188 non-null  int64  \n",
      " 36  CHFPre_52                  29188 non-null  int64  \n",
      " 37  HTNPre_54                  29188 non-null  int64  \n",
      " 38  DialysisPre_56             29188 non-null  int64  \n",
      " 39  CancerPre_58               29188 non-null  int64  \n",
      " 40  WoundInfectionPre_60       29188 non-null  int64  \n",
      " 41  SteroidPre_62              29188 non-null  int64  \n",
      " 42  WtLossPre_64               29188 non-null  int64  \n",
      " 43  BleedingDisPre_66          29188 non-null  int64  \n",
      " 44  TfnPre_68                  29188 non-null  int64  \n",
      " 45  SepsisPre_69               29188 non-null  int64  \n",
      " 46  SepsisPre_70               29188 non-null  int64  \n",
      " 47  SepsisPre_71               29188 non-null  int64  \n",
      " 48  SepsisPre_72               29188 non-null  int64  \n",
      " 49  ASAPre_73                  29188 non-null  int64  \n",
      " 50  ASAPre_74                  29188 non-null  int64  \n",
      " 51  ASAPre_75                  29188 non-null  int64  \n",
      " 52  ASAPre_76                  29188 non-null  int64  \n",
      " 53  ASAPre_77                  29188 non-null  int64  \n",
      " 54  ASAPre_78                  29188 non-null  int64  \n",
      " 55  PreOpDementia_2            29188 non-null  int64  \n",
      " 56  PreOpDelirium_5            29188 non-null  int64  \n",
      " 57  PreOpBoneMeds_7            29188 non-null  int64  \n",
      " 58  PreOpMOBAID_10             29188 non-null  int64  \n",
      " 59  PreOpPressSore_12          29188 non-null  int64  \n",
      " 60  PartialorFullFuncStatus    29188 non-null  int64  \n",
      " 61  DiabetesBinary             29188 non-null  int64  \n",
      " 62  MFI5                       29188 non-null  int64  \n",
      " 63  ObesityBinary              29188 non-null  int64  \n",
      " 64  MinorityPatient            29188 non-null  int64  \n",
      " 65  AGE                        29188 non-null  int64  \n",
      " 66  Ethnicity_14               29188 non-null  int64  \n",
      " 67  GenderData_1               29188 non-null  int64  \n",
      " 68  GenderData_2               29188 non-null  int64  \n",
      " 69  GenderData_3               29188 non-null  int64  \n",
      " 70  RaceData_4                 29188 non-null  int64  \n",
      " 71  RaceData_5                 29188 non-null  int64  \n",
      " 72  RaceData_Black             29188 non-null  int64  \n",
      " 73  RaceData_7                 29188 non-null  int64  \n",
      " 74  RaceData_8                 29188 non-null  int64  \n",
      " 75  RaceData_9                 29188 non-null  int64  \n",
      " 76  RaceData_10                29188 non-null  int64  \n",
      " 77  RaceData_11                29188 non-null  int64  \n",
      " 78  TransferStatus_17          29188 non-null  int64  \n",
      " 79  TransferStatus_18          29188 non-null  int64  \n",
      " 80  DispoLocationPost_28       29188 non-null  int64  \n",
      " 81  DispoLocationPost_30       29188 non-null  int64  \n",
      " 82  MEDMGMT_14                 29188 non-null  int64  \n",
      " 83  StandardHip_17             29188 non-null  int64  \n",
      " 84  HipFractureType_44         29188 non-null  int64  \n",
      " 85  HipFractureType_45         29188 non-null  int64  \n",
      " 86  HipFractureType_46         29188 non-null  int64  \n",
      " 87  HipFractureType_47         29188 non-null  int64  \n",
      " 88  HipFractureType_48         29188 non-null  int64  \n",
      " 89  PathologicHipFractures_51  29188 non-null  int64  \n",
      " 90  INOUT                      29188 non-null  object \n",
      " 91  EMERGNCY                   29188 non-null  object \n",
      " 92  OPTIME                     29188 non-null  int64  \n",
      " 93  TOTHLOS                    29188 non-null  int64  \n",
      " 94  HTOODAY                    29188 non-null  int64  \n",
      " 95  READMISSION30D             29188 non-null  int64  \n",
      "dtypes: float64(6), int64(88), object(2)\n",
      "memory usage: 21.4+ MB\n"
     ]
    },
    {
     "data": {
      "text/plain": [
       "None"
      ]
     },
     "metadata": {},
     "output_type": "display_data"
    }
   ],
   "source": [
    "display(full_df.shape)\n",
    "display(full_df.isna().sum())\n",
    "display(full_df.info())"
   ]
  },
  {
   "cell_type": "code",
   "execution_count": 7,
   "metadata": {},
   "outputs": [],
   "source": [
    "#next we need to scale the lab values \n",
    "lab_cols = ['PRSODM', 'PRBUN', 'PRCREAT', 'PRWBC', 'PRHCT', 'PRPLATE']\n",
    "\n",
    "def scale_labs(df, lab_cols):\n",
    "    # create a DataFrame with only the lab columns\n",
    "    lab_df = df[lab_cols]\n",
    "\n",
    "    # replace missing values (-99) with NaN\n",
    "    lab_df = lab_df.replace(-99, np.nan)\n",
    "\n",
    "    # impute missing values with the median\n",
    "    imputer = SimpleImputer(strategy='median')\n",
    "    \n",
    "    #transform lab values \n",
    "    lab_df = imputer.fit_transform(lab_df)\n",
    "\n",
    "    # create a StandardScaler object\n",
    "    scaler = StandardScaler()\n",
    "\n",
    "    # fit the scaler to the lab data\n",
    "    scaler.fit(lab_df)\n",
    "\n",
    "    # transform the lab data\n",
    "    scaled_data = scaler.transform(lab_df)\n",
    "\n",
    "    # create a new DataFrame with the scaled lab data\n",
    "    scaled_lab_df = pd.DataFrame(scaled_data, columns=lab_cols)\n",
    "\n",
    "    # create a new DataFrame that contains both the scaled lab columns and the other columns from the input DataFrame\n",
    "    new_df = pd.concat([df.drop(lab_cols, axis=1), scaled_lab_df], axis=1)\n",
    "\n",
    "    return new_df\n",
    "\n",
    "\n",
    "scaled_df  = scale_labs(full_df, lab_cols)"
   ]
  },
  {
   "cell_type": "code",
   "execution_count": 8,
   "metadata": {},
   "outputs": [
    {
     "data": {
      "text/plain": [
       "EMERGNCY\n",
       "No     23943\n",
       "Yes     5245\n",
       "Name: count, dtype: int64"
      ]
     },
     "metadata": {},
     "output_type": "display_data"
    },
    {
     "data": {
      "text/plain": [
       "INOUT\n",
       "Inpatient     29110\n",
       "Outpatient       78\n",
       "Name: count, dtype: int64"
      ]
     },
     "metadata": {},
     "output_type": "display_data"
    }
   ],
   "source": [
    "\n",
    "#convert these two to binary \n",
    "display(scaled_df['EMERGNCY'].value_counts())\n",
    "display(scaled_df['INOUT'].value_counts())"
   ]
  },
  {
   "cell_type": "code",
   "execution_count": 9,
   "metadata": {},
   "outputs": [],
   "source": [
    "#convert EMERGENCY and INOUT\n",
    "def convert_binary(df): \n",
    "    encoding_EMERGENCY = {'No': 0, 'Yes': 1}\n",
    "    encoding_INOUT = {'Inpatient': 1, 'Outpatient': 0}\n",
    "\n",
    "    df['EMERGNCY'] = df['EMERGNCY'].map(encoding_EMERGENCY)\n",
    "    df['INOUT'] = df['INOUT'].map(encoding_INOUT)\n",
    "    df_encoded = df \n",
    "    return df_encoded\n",
    "\n",
    "df_encoded = convert_binary(scaled_df)\n"
   ]
  },
  {
   "cell_type": "code",
   "execution_count": 10,
   "metadata": {},
   "outputs": [
    {
     "data": {
      "text/plain": [
       "EMERGNCY\n",
       "0    23943\n",
       "1     5245\n",
       "Name: count, dtype: int64"
      ]
     },
     "metadata": {},
     "output_type": "display_data"
    },
    {
     "data": {
      "text/plain": [
       "INOUT\n",
       "1    29110\n",
       "0       78\n",
       "Name: count, dtype: int64"
      ]
     },
     "metadata": {},
     "output_type": "display_data"
    }
   ],
   "source": [
    "#convert these two to binary \n",
    "display(df_encoded['EMERGNCY'].value_counts())\n",
    "display(df_encoded['INOUT'].value_counts())"
   ]
  },
  {
   "cell_type": "code",
   "execution_count": 11,
   "metadata": {},
   "outputs": [
    {
     "name": "stdout",
     "output_type": "stream",
     "text": [
      "<class 'pandas.core.frame.DataFrame'>\n",
      "Index: 23350 entries, 12914 to 4404\n",
      "Data columns (total 95 columns):\n",
      " #   Column                     Non-Null Count  Dtype  \n",
      "---  ------                     --------------  -----  \n",
      " 0   DeepSSIPost_81             23350 non-null  int64  \n",
      " 1   OrganSpacePost_84          23350 non-null  int64  \n",
      " 2   PneumoniaPost_88           23350 non-null  int64  \n",
      " 3   ReintubPost_90             23350 non-null  int64  \n",
      " 4   PulmEmbPost_92             23350 non-null  int64  \n",
      " 5   ProgRenalPost_96           23350 non-null  int64  \n",
      " 6   UTIPost_100                23350 non-null  int64  \n",
      " 7   MIPost_105                 23350 non-null  int64  \n",
      " 8   BleedingTfnPost_108        23350 non-null  int64  \n",
      " 9   DVTPost_109                23350 non-null  int64  \n",
      " 10  DVTProphylaxisPost28_24    23350 non-null  int64  \n",
      " 11  SepsisPost_112             23350 non-null  int64  \n",
      " 12  ReOPPost_116               23350 non-null  int64  \n",
      " 13  CardiacComplications       23350 non-null  int64  \n",
      " 14  InfectiousComplications    23350 non-null  int64  \n",
      " 15  Stroke_2                   23350 non-null  int64  \n",
      " 16  WBATPOD1_21                23350 non-null  int64  \n",
      " 17  PostOpPRESSORE_26          23350 non-null  int64  \n",
      " 18  PostOpDelirium_29          23350 non-null  int64  \n",
      " 19  SmokePre_37                23350 non-null  int64  \n",
      " 20  DyspneaPre_38              23350 non-null  int64  \n",
      " 21  DyspneaPre_39              23350 non-null  int64  \n",
      " 22  DyspneaPre_40              23350 non-null  int64  \n",
      " 23  FncStatusPre_41            23350 non-null  int64  \n",
      " 24  FncStatusPre_42            23350 non-null  int64  \n",
      " 25  FncStatusPre_43            23350 non-null  int64  \n",
      " 26  FncStatusPre_44            23350 non-null  int64  \n",
      " 27  VentDepPre_46              23350 non-null  int64  \n",
      " 28  COPDPre_48                 23350 non-null  int64  \n",
      " 29  AscitesPre_50              23350 non-null  int64  \n",
      " 30  CHFPre_52                  23350 non-null  int64  \n",
      " 31  HTNPre_54                  23350 non-null  int64  \n",
      " 32  DialysisPre_56             23350 non-null  int64  \n",
      " 33  CancerPre_58               23350 non-null  int64  \n",
      " 34  WoundInfectionPre_60       23350 non-null  int64  \n",
      " 35  SteroidPre_62              23350 non-null  int64  \n",
      " 36  WtLossPre_64               23350 non-null  int64  \n",
      " 37  BleedingDisPre_66          23350 non-null  int64  \n",
      " 38  TfnPre_68                  23350 non-null  int64  \n",
      " 39  SepsisPre_69               23350 non-null  int64  \n",
      " 40  SepsisPre_70               23350 non-null  int64  \n",
      " 41  SepsisPre_71               23350 non-null  int64  \n",
      " 42  SepsisPre_72               23350 non-null  int64  \n",
      " 43  ASAPre_73                  23350 non-null  int64  \n",
      " 44  ASAPre_74                  23350 non-null  int64  \n",
      " 45  ASAPre_75                  23350 non-null  int64  \n",
      " 46  ASAPre_76                  23350 non-null  int64  \n",
      " 47  ASAPre_77                  23350 non-null  int64  \n",
      " 48  ASAPre_78                  23350 non-null  int64  \n",
      " 49  PreOpDementia_2            23350 non-null  int64  \n",
      " 50  PreOpDelirium_5            23350 non-null  int64  \n",
      " 51  PreOpBoneMeds_7            23350 non-null  int64  \n",
      " 52  PreOpMOBAID_10             23350 non-null  int64  \n",
      " 53  PreOpPressSore_12          23350 non-null  int64  \n",
      " 54  PartialorFullFuncStatus    23350 non-null  int64  \n",
      " 55  DiabetesBinary             23350 non-null  int64  \n",
      " 56  MFI5                       23350 non-null  int64  \n",
      " 57  ObesityBinary              23350 non-null  int64  \n",
      " 58  MinorityPatient            23350 non-null  int64  \n",
      " 59  AGE                        23350 non-null  int64  \n",
      " 60  Ethnicity_14               23350 non-null  int64  \n",
      " 61  GenderData_1               23350 non-null  int64  \n",
      " 62  GenderData_2               23350 non-null  int64  \n",
      " 63  GenderData_3               23350 non-null  int64  \n",
      " 64  RaceData_4                 23350 non-null  int64  \n",
      " 65  RaceData_5                 23350 non-null  int64  \n",
      " 66  RaceData_Black             23350 non-null  int64  \n",
      " 67  RaceData_7                 23350 non-null  int64  \n",
      " 68  RaceData_8                 23350 non-null  int64  \n",
      " 69  RaceData_9                 23350 non-null  int64  \n",
      " 70  RaceData_10                23350 non-null  int64  \n",
      " 71  RaceData_11                23350 non-null  int64  \n",
      " 72  TransferStatus_17          23350 non-null  int64  \n",
      " 73  TransferStatus_18          23350 non-null  int64  \n",
      " 74  DispoLocationPost_28       23350 non-null  int64  \n",
      " 75  DispoLocationPost_30       23350 non-null  int64  \n",
      " 76  MEDMGMT_14                 23350 non-null  int64  \n",
      " 77  StandardHip_17             23350 non-null  int64  \n",
      " 78  HipFractureType_44         23350 non-null  int64  \n",
      " 79  HipFractureType_45         23350 non-null  int64  \n",
      " 80  HipFractureType_46         23350 non-null  int64  \n",
      " 81  HipFractureType_47         23350 non-null  int64  \n",
      " 82  HipFractureType_48         23350 non-null  int64  \n",
      " 83  PathologicHipFractures_51  23350 non-null  int64  \n",
      " 84  INOUT                      23350 non-null  int64  \n",
      " 85  EMERGNCY                   23350 non-null  int64  \n",
      " 86  OPTIME                     23350 non-null  int64  \n",
      " 87  TOTHLOS                    23350 non-null  int64  \n",
      " 88  HTOODAY                    23350 non-null  int64  \n",
      " 89  PRSODM                     23350 non-null  float64\n",
      " 90  PRBUN                      23350 non-null  float64\n",
      " 91  PRCREAT                    23350 non-null  float64\n",
      " 92  PRWBC                      23350 non-null  float64\n",
      " 93  PRHCT                      23350 non-null  float64\n",
      " 94  PRPLATE                    23350 non-null  float64\n",
      "dtypes: float64(6), int64(89)\n",
      "memory usage: 17.1 MB\n"
     ]
    },
    {
     "data": {
      "text/plain": [
       "None"
      ]
     },
     "metadata": {},
     "output_type": "display_data"
    },
    {
     "name": "stdout",
     "output_type": "stream",
     "text": [
      "<class 'pandas.core.frame.DataFrame'>\n",
      "Index: 5838 entries, 28216 to 13720\n",
      "Data columns (total 95 columns):\n",
      " #   Column                     Non-Null Count  Dtype  \n",
      "---  ------                     --------------  -----  \n",
      " 0   DeepSSIPost_81             5838 non-null   int64  \n",
      " 1   OrganSpacePost_84          5838 non-null   int64  \n",
      " 2   PneumoniaPost_88           5838 non-null   int64  \n",
      " 3   ReintubPost_90             5838 non-null   int64  \n",
      " 4   PulmEmbPost_92             5838 non-null   int64  \n",
      " 5   ProgRenalPost_96           5838 non-null   int64  \n",
      " 6   UTIPost_100                5838 non-null   int64  \n",
      " 7   MIPost_105                 5838 non-null   int64  \n",
      " 8   BleedingTfnPost_108        5838 non-null   int64  \n",
      " 9   DVTPost_109                5838 non-null   int64  \n",
      " 10  DVTProphylaxisPost28_24    5838 non-null   int64  \n",
      " 11  SepsisPost_112             5838 non-null   int64  \n",
      " 12  ReOPPost_116               5838 non-null   int64  \n",
      " 13  CardiacComplications       5838 non-null   int64  \n",
      " 14  InfectiousComplications    5838 non-null   int64  \n",
      " 15  Stroke_2                   5838 non-null   int64  \n",
      " 16  WBATPOD1_21                5838 non-null   int64  \n",
      " 17  PostOpPRESSORE_26          5838 non-null   int64  \n",
      " 18  PostOpDelirium_29          5838 non-null   int64  \n",
      " 19  SmokePre_37                5838 non-null   int64  \n",
      " 20  DyspneaPre_38              5838 non-null   int64  \n",
      " 21  DyspneaPre_39              5838 non-null   int64  \n",
      " 22  DyspneaPre_40              5838 non-null   int64  \n",
      " 23  FncStatusPre_41            5838 non-null   int64  \n",
      " 24  FncStatusPre_42            5838 non-null   int64  \n",
      " 25  FncStatusPre_43            5838 non-null   int64  \n",
      " 26  FncStatusPre_44            5838 non-null   int64  \n",
      " 27  VentDepPre_46              5838 non-null   int64  \n",
      " 28  COPDPre_48                 5838 non-null   int64  \n",
      " 29  AscitesPre_50              5838 non-null   int64  \n",
      " 30  CHFPre_52                  5838 non-null   int64  \n",
      " 31  HTNPre_54                  5838 non-null   int64  \n",
      " 32  DialysisPre_56             5838 non-null   int64  \n",
      " 33  CancerPre_58               5838 non-null   int64  \n",
      " 34  WoundInfectionPre_60       5838 non-null   int64  \n",
      " 35  SteroidPre_62              5838 non-null   int64  \n",
      " 36  WtLossPre_64               5838 non-null   int64  \n",
      " 37  BleedingDisPre_66          5838 non-null   int64  \n",
      " 38  TfnPre_68                  5838 non-null   int64  \n",
      " 39  SepsisPre_69               5838 non-null   int64  \n",
      " 40  SepsisPre_70               5838 non-null   int64  \n",
      " 41  SepsisPre_71               5838 non-null   int64  \n",
      " 42  SepsisPre_72               5838 non-null   int64  \n",
      " 43  ASAPre_73                  5838 non-null   int64  \n",
      " 44  ASAPre_74                  5838 non-null   int64  \n",
      " 45  ASAPre_75                  5838 non-null   int64  \n",
      " 46  ASAPre_76                  5838 non-null   int64  \n",
      " 47  ASAPre_77                  5838 non-null   int64  \n",
      " 48  ASAPre_78                  5838 non-null   int64  \n",
      " 49  PreOpDementia_2            5838 non-null   int64  \n",
      " 50  PreOpDelirium_5            5838 non-null   int64  \n",
      " 51  PreOpBoneMeds_7            5838 non-null   int64  \n",
      " 52  PreOpMOBAID_10             5838 non-null   int64  \n",
      " 53  PreOpPressSore_12          5838 non-null   int64  \n",
      " 54  PartialorFullFuncStatus    5838 non-null   int64  \n",
      " 55  DiabetesBinary             5838 non-null   int64  \n",
      " 56  MFI5                       5838 non-null   int64  \n",
      " 57  ObesityBinary              5838 non-null   int64  \n",
      " 58  MinorityPatient            5838 non-null   int64  \n",
      " 59  AGE                        5838 non-null   int64  \n",
      " 60  Ethnicity_14               5838 non-null   int64  \n",
      " 61  GenderData_1               5838 non-null   int64  \n",
      " 62  GenderData_2               5838 non-null   int64  \n",
      " 63  GenderData_3               5838 non-null   int64  \n",
      " 64  RaceData_4                 5838 non-null   int64  \n",
      " 65  RaceData_5                 5838 non-null   int64  \n",
      " 66  RaceData_Black             5838 non-null   int64  \n",
      " 67  RaceData_7                 5838 non-null   int64  \n",
      " 68  RaceData_8                 5838 non-null   int64  \n",
      " 69  RaceData_9                 5838 non-null   int64  \n",
      " 70  RaceData_10                5838 non-null   int64  \n",
      " 71  RaceData_11                5838 non-null   int64  \n",
      " 72  TransferStatus_17          5838 non-null   int64  \n",
      " 73  TransferStatus_18          5838 non-null   int64  \n",
      " 74  DispoLocationPost_28       5838 non-null   int64  \n",
      " 75  DispoLocationPost_30       5838 non-null   int64  \n",
      " 76  MEDMGMT_14                 5838 non-null   int64  \n",
      " 77  StandardHip_17             5838 non-null   int64  \n",
      " 78  HipFractureType_44         5838 non-null   int64  \n",
      " 79  HipFractureType_45         5838 non-null   int64  \n",
      " 80  HipFractureType_46         5838 non-null   int64  \n",
      " 81  HipFractureType_47         5838 non-null   int64  \n",
      " 82  HipFractureType_48         5838 non-null   int64  \n",
      " 83  PathologicHipFractures_51  5838 non-null   int64  \n",
      " 84  INOUT                      5838 non-null   int64  \n",
      " 85  EMERGNCY                   5838 non-null   int64  \n",
      " 86  OPTIME                     5838 non-null   int64  \n",
      " 87  TOTHLOS                    5838 non-null   int64  \n",
      " 88  HTOODAY                    5838 non-null   int64  \n",
      " 89  PRSODM                     5838 non-null   float64\n",
      " 90  PRBUN                      5838 non-null   float64\n",
      " 91  PRCREAT                    5838 non-null   float64\n",
      " 92  PRWBC                      5838 non-null   float64\n",
      " 93  PRHCT                      5838 non-null   float64\n",
      " 94  PRPLATE                    5838 non-null   float64\n",
      "dtypes: float64(6), int64(89)\n",
      "memory usage: 4.3 MB\n"
     ]
    },
    {
     "data": {
      "text/plain": [
       "None"
      ]
     },
     "metadata": {},
     "output_type": "display_data"
    },
    {
     "name": "stdout",
     "output_type": "stream",
     "text": [
      "<class 'pandas.core.frame.DataFrame'>\n",
      "Index: 23350 entries, 12914 to 4404\n",
      "Data columns (total 1 columns):\n",
      " #   Column          Non-Null Count  Dtype\n",
      "---  ------          --------------  -----\n",
      " 0   READMISSION30D  23350 non-null  int64\n",
      "dtypes: int64(1)\n",
      "memory usage: 364.8 KB\n"
     ]
    },
    {
     "data": {
      "text/plain": [
       "None"
      ]
     },
     "metadata": {},
     "output_type": "display_data"
    },
    {
     "name": "stdout",
     "output_type": "stream",
     "text": [
      "<class 'pandas.core.frame.DataFrame'>\n",
      "Index: 5838 entries, 28216 to 13720\n",
      "Data columns (total 1 columns):\n",
      " #   Column          Non-Null Count  Dtype\n",
      "---  ------          --------------  -----\n",
      " 0   READMISSION30D  5838 non-null   int64\n",
      "dtypes: int64(1)\n",
      "memory usage: 91.2 KB\n"
     ]
    },
    {
     "data": {
      "text/plain": [
       "None"
      ]
     },
     "metadata": {},
     "output_type": "display_data"
    }
   ],
   "source": [
    "def split_data(df): \n",
    "    X = df.drop(labels = ['READMISSION30D'], axis = 1) \n",
    "    y = pd.DataFrame(df['READMISSION30D']) \n",
    "    X_train,X_test,y_train,y_test = train_test_split(X, y, stratify = y, test_size= .2, random_state= 0 )\n",
    "    return X_train,X_test,y_train,y_test\n",
    "\n",
    "X_train,X_test,y_train,y_test = split_data(df_encoded)\n",
    "display(X_train.info()) \n",
    "display(X_test.info())\n",
    "display(y_train.info())\n",
    "display(y_test.info())"
   ]
  },
  {
   "cell_type": "code",
   "execution_count": 12,
   "metadata": {},
   "outputs": [
    {
     "data": {
      "text/html": [
       "<style>#sk-container-id-1 {color: black;background-color: white;}#sk-container-id-1 pre{padding: 0;}#sk-container-id-1 div.sk-toggleable {background-color: white;}#sk-container-id-1 label.sk-toggleable__label {cursor: pointer;display: block;width: 100%;margin-bottom: 0;padding: 0.3em;box-sizing: border-box;text-align: center;}#sk-container-id-1 label.sk-toggleable__label-arrow:before {content: \"▸\";float: left;margin-right: 0.25em;color: #696969;}#sk-container-id-1 label.sk-toggleable__label-arrow:hover:before {color: black;}#sk-container-id-1 div.sk-estimator:hover label.sk-toggleable__label-arrow:before {color: black;}#sk-container-id-1 div.sk-toggleable__content {max-height: 0;max-width: 0;overflow: hidden;text-align: left;background-color: #f0f8ff;}#sk-container-id-1 div.sk-toggleable__content pre {margin: 0.2em;color: black;border-radius: 0.25em;background-color: #f0f8ff;}#sk-container-id-1 input.sk-toggleable__control:checked~div.sk-toggleable__content {max-height: 200px;max-width: 100%;overflow: auto;}#sk-container-id-1 input.sk-toggleable__control:checked~label.sk-toggleable__label-arrow:before {content: \"▾\";}#sk-container-id-1 div.sk-estimator input.sk-toggleable__control:checked~label.sk-toggleable__label {background-color: #d4ebff;}#sk-container-id-1 div.sk-label input.sk-toggleable__control:checked~label.sk-toggleable__label {background-color: #d4ebff;}#sk-container-id-1 input.sk-hidden--visually {border: 0;clip: rect(1px 1px 1px 1px);clip: rect(1px, 1px, 1px, 1px);height: 1px;margin: -1px;overflow: hidden;padding: 0;position: absolute;width: 1px;}#sk-container-id-1 div.sk-estimator {font-family: monospace;background-color: #f0f8ff;border: 1px dotted black;border-radius: 0.25em;box-sizing: border-box;margin-bottom: 0.5em;}#sk-container-id-1 div.sk-estimator:hover {background-color: #d4ebff;}#sk-container-id-1 div.sk-parallel-item::after {content: \"\";width: 100%;border-bottom: 1px solid gray;flex-grow: 1;}#sk-container-id-1 div.sk-label:hover label.sk-toggleable__label {background-color: #d4ebff;}#sk-container-id-1 div.sk-serial::before {content: \"\";position: absolute;border-left: 1px solid gray;box-sizing: border-box;top: 0;bottom: 0;left: 50%;z-index: 0;}#sk-container-id-1 div.sk-serial {display: flex;flex-direction: column;align-items: center;background-color: white;padding-right: 0.2em;padding-left: 0.2em;position: relative;}#sk-container-id-1 div.sk-item {position: relative;z-index: 1;}#sk-container-id-1 div.sk-parallel {display: flex;align-items: stretch;justify-content: center;background-color: white;position: relative;}#sk-container-id-1 div.sk-item::before, #sk-container-id-1 div.sk-parallel-item::before {content: \"\";position: absolute;border-left: 1px solid gray;box-sizing: border-box;top: 0;bottom: 0;left: 50%;z-index: -1;}#sk-container-id-1 div.sk-parallel-item {display: flex;flex-direction: column;z-index: 1;position: relative;background-color: white;}#sk-container-id-1 div.sk-parallel-item:first-child::after {align-self: flex-end;width: 50%;}#sk-container-id-1 div.sk-parallel-item:last-child::after {align-self: flex-start;width: 50%;}#sk-container-id-1 div.sk-parallel-item:only-child::after {width: 0;}#sk-container-id-1 div.sk-dashed-wrapped {border: 1px dashed gray;margin: 0 0.4em 0.5em 0.4em;box-sizing: border-box;padding-bottom: 0.4em;background-color: white;}#sk-container-id-1 div.sk-label label {font-family: monospace;font-weight: bold;display: inline-block;line-height: 1.2em;}#sk-container-id-1 div.sk-label-container {text-align: center;}#sk-container-id-1 div.sk-container {/* jupyter's `normalize.less` sets `[hidden] { display: none; }` but bootstrap.min.css set `[hidden] { display: none !important; }` so we also need the `!important` here to be able to override the default hidden behavior on the sphinx rendered scikit-learn.org. See: https://github.com/scikit-learn/scikit-learn/issues/21755 */display: inline-block !important;position: relative;}#sk-container-id-1 div.sk-text-repr-fallback {display: none;}</style><div id=\"sk-container-id-1\" class=\"sk-top-container\"><div class=\"sk-text-repr-fallback\"><pre>Lasso(alpha=0.1)</pre><b>In a Jupyter environment, please rerun this cell to show the HTML representation or trust the notebook. <br />On GitHub, the HTML representation is unable to render, please try loading this page with nbviewer.org.</b></div><div class=\"sk-container\" hidden><div class=\"sk-item\"><div class=\"sk-estimator sk-toggleable\"><input class=\"sk-toggleable__control sk-hidden--visually\" id=\"sk-estimator-id-1\" type=\"checkbox\" checked><label for=\"sk-estimator-id-1\" class=\"sk-toggleable__label sk-toggleable__label-arrow\">Lasso</label><div class=\"sk-toggleable__content\"><pre>Lasso(alpha=0.1)</pre></div></div></div></div></div>"
      ],
      "text/plain": [
       "Lasso(alpha=0.1)"
      ]
     },
     "execution_count": 12,
     "metadata": {},
     "output_type": "execute_result"
    }
   ],
   "source": [
    "# Apply Lasso linear regression without cross-validation\n",
    "lasso = Lasso(alpha=0.1)\n",
    "lasso.fit(X_train, y_train)"
   ]
  },
  {
   "cell_type": "code",
   "execution_count": 13,
   "metadata": {},
   "outputs": [
    {
     "name": "stdout",
     "output_type": "stream",
     "text": [
      "Selected features: [86]\n",
      "Coefficients: [ 0.          0.          0.          0.          0.          0.\n",
      "  0.          0.          0.          0.          0.          0.\n",
      "  0.          0.          0.          0.         -0.          0.\n",
      "  0.          0.          0.          0.         -0.         -0.\n",
      "  0.         -0.          0.          0.          0.          0.\n",
      "  0.          0.          0.          0.          0.          0.\n",
      "  0.          0.          0.         -0.          0.          0.\n",
      "  0.         -0.         -0.         -0.          0.          0.\n",
      " -0.          0.          0.         -0.          0.          0.\n",
      "  0.          0.          0.          0.          0.          0.\n",
      "  0.         -0.          0.         -0.         -0.         -0.\n",
      "  0.         -0.         -0.          0.          0.          0.\n",
      " -0.         -0.          0.          0.          0.          0.\n",
      "  0.          0.         -0.         -0.         -0.          0.\n",
      "  0.          0.          0.00014527  0.          0.         -0.\n",
      "  0.          0.         -0.         -0.         -0.        ]\n"
     ]
    }
   ],
   "source": [
    "# Print the selected features and their coefficients\n",
    "print(\"Selected features:\", np.where(lasso.coef_ != 0)[0])\n",
    "print(\"Coefficients:\", lasso.coef_)"
   ]
  },
  {
   "cell_type": "code",
   "execution_count": 14,
   "metadata": {},
   "outputs": [
    {
     "name": "stdout",
     "output_type": "stream",
     "text": [
      "Lasso without cross-validation classification report:\n",
      "              precision    recall  f1-score   support\n",
      "\n",
      "           0       0.90      1.00      0.95      5277\n",
      "           1       0.00      0.00      0.00       561\n",
      "\n",
      "    accuracy                           0.90      5838\n",
      "   macro avg       0.45      0.50      0.47      5838\n",
      "weighted avg       0.82      0.90      0.86      5838\n",
      "\n"
     ]
    },
    {
     "name": "stderr",
     "output_type": "stream",
     "text": [
      "/Users/zhixiangyao/Desktop/Spring 2023/Intro BioMed Data Sci/Project/BME580project/lib/python3.10/site-packages/sklearn/metrics/_classification.py:1344: UndefinedMetricWarning: Precision and F-score are ill-defined and being set to 0.0 in labels with no predicted samples. Use `zero_division` parameter to control this behavior.\n",
      "  _warn_prf(average, modifier, msg_start, len(result))\n",
      "/Users/zhixiangyao/Desktop/Spring 2023/Intro BioMed Data Sci/Project/BME580project/lib/python3.10/site-packages/sklearn/metrics/_classification.py:1344: UndefinedMetricWarning: Precision and F-score are ill-defined and being set to 0.0 in labels with no predicted samples. Use `zero_division` parameter to control this behavior.\n",
      "  _warn_prf(average, modifier, msg_start, len(result))\n",
      "/Users/zhixiangyao/Desktop/Spring 2023/Intro BioMed Data Sci/Project/BME580project/lib/python3.10/site-packages/sklearn/metrics/_classification.py:1344: UndefinedMetricWarning: Precision and F-score are ill-defined and being set to 0.0 in labels with no predicted samples. Use `zero_division` parameter to control this behavior.\n",
      "  _warn_prf(average, modifier, msg_start, len(result))\n"
     ]
    }
   ],
   "source": [
    "# Generate classification predictions on the test set and print the classification report\n",
    "y_pred = lasso.predict(X_test)\n",
    "print(\"Lasso without cross-validation classification report:\")\n",
    "print(classification_report(y_test, np.round(y_pred)))"
   ]
  },
  {
   "cell_type": "code",
   "execution_count": 15,
   "metadata": {},
   "outputs": [
    {
     "name": "stderr",
     "output_type": "stream",
     "text": [
      "/Users/zhixiangyao/Desktop/Spring 2023/Intro BioMed Data Sci/Project/BME580project/lib/python3.10/site-packages/sklearn/linear_model/_coordinate_descent.py:1568: DataConversionWarning: A column-vector y was passed when a 1d array was expected. Please change the shape of y to (n_samples, ), for example using ravel().\n",
      "  y = column_or_1d(y, warn=True)\n"
     ]
    },
    {
     "data": {
      "text/html": [
       "<style>#sk-container-id-2 {color: black;background-color: white;}#sk-container-id-2 pre{padding: 0;}#sk-container-id-2 div.sk-toggleable {background-color: white;}#sk-container-id-2 label.sk-toggleable__label {cursor: pointer;display: block;width: 100%;margin-bottom: 0;padding: 0.3em;box-sizing: border-box;text-align: center;}#sk-container-id-2 label.sk-toggleable__label-arrow:before {content: \"▸\";float: left;margin-right: 0.25em;color: #696969;}#sk-container-id-2 label.sk-toggleable__label-arrow:hover:before {color: black;}#sk-container-id-2 div.sk-estimator:hover label.sk-toggleable__label-arrow:before {color: black;}#sk-container-id-2 div.sk-toggleable__content {max-height: 0;max-width: 0;overflow: hidden;text-align: left;background-color: #f0f8ff;}#sk-container-id-2 div.sk-toggleable__content pre {margin: 0.2em;color: black;border-radius: 0.25em;background-color: #f0f8ff;}#sk-container-id-2 input.sk-toggleable__control:checked~div.sk-toggleable__content {max-height: 200px;max-width: 100%;overflow: auto;}#sk-container-id-2 input.sk-toggleable__control:checked~label.sk-toggleable__label-arrow:before {content: \"▾\";}#sk-container-id-2 div.sk-estimator input.sk-toggleable__control:checked~label.sk-toggleable__label {background-color: #d4ebff;}#sk-container-id-2 div.sk-label input.sk-toggleable__control:checked~label.sk-toggleable__label {background-color: #d4ebff;}#sk-container-id-2 input.sk-hidden--visually {border: 0;clip: rect(1px 1px 1px 1px);clip: rect(1px, 1px, 1px, 1px);height: 1px;margin: -1px;overflow: hidden;padding: 0;position: absolute;width: 1px;}#sk-container-id-2 div.sk-estimator {font-family: monospace;background-color: #f0f8ff;border: 1px dotted black;border-radius: 0.25em;box-sizing: border-box;margin-bottom: 0.5em;}#sk-container-id-2 div.sk-estimator:hover {background-color: #d4ebff;}#sk-container-id-2 div.sk-parallel-item::after {content: \"\";width: 100%;border-bottom: 1px solid gray;flex-grow: 1;}#sk-container-id-2 div.sk-label:hover label.sk-toggleable__label {background-color: #d4ebff;}#sk-container-id-2 div.sk-serial::before {content: \"\";position: absolute;border-left: 1px solid gray;box-sizing: border-box;top: 0;bottom: 0;left: 50%;z-index: 0;}#sk-container-id-2 div.sk-serial {display: flex;flex-direction: column;align-items: center;background-color: white;padding-right: 0.2em;padding-left: 0.2em;position: relative;}#sk-container-id-2 div.sk-item {position: relative;z-index: 1;}#sk-container-id-2 div.sk-parallel {display: flex;align-items: stretch;justify-content: center;background-color: white;position: relative;}#sk-container-id-2 div.sk-item::before, #sk-container-id-2 div.sk-parallel-item::before {content: \"\";position: absolute;border-left: 1px solid gray;box-sizing: border-box;top: 0;bottom: 0;left: 50%;z-index: -1;}#sk-container-id-2 div.sk-parallel-item {display: flex;flex-direction: column;z-index: 1;position: relative;background-color: white;}#sk-container-id-2 div.sk-parallel-item:first-child::after {align-self: flex-end;width: 50%;}#sk-container-id-2 div.sk-parallel-item:last-child::after {align-self: flex-start;width: 50%;}#sk-container-id-2 div.sk-parallel-item:only-child::after {width: 0;}#sk-container-id-2 div.sk-dashed-wrapped {border: 1px dashed gray;margin: 0 0.4em 0.5em 0.4em;box-sizing: border-box;padding-bottom: 0.4em;background-color: white;}#sk-container-id-2 div.sk-label label {font-family: monospace;font-weight: bold;display: inline-block;line-height: 1.2em;}#sk-container-id-2 div.sk-label-container {text-align: center;}#sk-container-id-2 div.sk-container {/* jupyter's `normalize.less` sets `[hidden] { display: none; }` but bootstrap.min.css set `[hidden] { display: none !important; }` so we also need the `!important` here to be able to override the default hidden behavior on the sphinx rendered scikit-learn.org. See: https://github.com/scikit-learn/scikit-learn/issues/21755 */display: inline-block !important;position: relative;}#sk-container-id-2 div.sk-text-repr-fallback {display: none;}</style><div id=\"sk-container-id-2\" class=\"sk-top-container\"><div class=\"sk-text-repr-fallback\"><pre>LassoCV(cv=5)</pre><b>In a Jupyter environment, please rerun this cell to show the HTML representation or trust the notebook. <br />On GitHub, the HTML representation is unable to render, please try loading this page with nbviewer.org.</b></div><div class=\"sk-container\" hidden><div class=\"sk-item\"><div class=\"sk-estimator sk-toggleable\"><input class=\"sk-toggleable__control sk-hidden--visually\" id=\"sk-estimator-id-2\" type=\"checkbox\" checked><label for=\"sk-estimator-id-2\" class=\"sk-toggleable__label sk-toggleable__label-arrow\">LassoCV</label><div class=\"sk-toggleable__content\"><pre>LassoCV(cv=5)</pre></div></div></div></div></div>"
      ],
      "text/plain": [
       "LassoCV(cv=5)"
      ]
     },
     "execution_count": 15,
     "metadata": {},
     "output_type": "execute_result"
    }
   ],
   "source": [
    "# Apply Lasso linear regression with cross-validation\n",
    "lasso_cv = LassoCV(cv=5)\n",
    "lasso_cv.fit(X_train, y_train)"
   ]
  },
  {
   "cell_type": "code",
   "execution_count": 16,
   "metadata": {},
   "outputs": [],
   "source": [
    "# # Print the selected features and their coefficients\n",
    "# print(\"Selected features with cross-validation:\", np.where(lasso_cv.coef_ != 0)[0])\n",
    "# print(\"Coefficients with cross-validation:\", lasso_cv.coef_)"
   ]
  },
  {
   "cell_type": "code",
   "execution_count": 17,
   "metadata": {},
   "outputs": [
    {
     "name": "stdout",
     "output_type": "stream",
     "text": [
      "Lasso with cross-validation classification report:\n",
      "              precision    recall  f1-score   support\n",
      "\n",
      "           0       0.93      0.99      0.96      5277\n",
      "           1       0.78      0.25      0.38       561\n",
      "\n",
      "    accuracy                           0.92      5838\n",
      "   macro avg       0.85      0.62      0.67      5838\n",
      "weighted avg       0.91      0.92      0.90      5838\n",
      "\n"
     ]
    }
   ],
   "source": [
    "# Generate classification predictions on the test set and print the classification report\n",
    "y_pred_cv = lasso_cv.predict(X_test)\n",
    "print(\"Lasso with cross-validation classification report:\")\n",
    "print(classification_report(y_test, np.round(y_pred_cv)))"
   ]
  },
  {
   "cell_type": "code",
   "execution_count": 18,
   "metadata": {},
   "outputs": [
    {
     "data": {
      "image/png": "[encoded data removed]",
      "text/plain": [
       "<Figure size 640x480 with 1 Axes>"
      ]
     },
     "metadata": {},
     "output_type": "display_data"
    }
   ],
   "source": [
    "# Calculate and plot the ROC AUC curve for Lasso without cross-validation\n",
    "roc_auc = roc_auc_score(y_test, y_pred)\n",
    "random_guess = np.linspace(0, 1, len(y_test))\n",
    "plt.plot(random_guess, random_guess, linestyle='--')\n",
    "fpr, tpr, thresholds = roc_curve(y_test, y_pred)\n",
    "plt.plot(fpr, tpr, label=f\"Lasso without CV AUC = {roc_auc:.2f}\")\n",
    "\n",
    "# Calculate and plot the ROC AUC curve for Lasso with cross-validation\n",
    "roc_auc_cv = roc_auc_score(y_test, y_pred_cv)\n",
    "fpr_cv, tpr_cv, thresholds_cv = roc_curve(y_test, y_pred_cv)\n",
    "plt.plot(fpr_cv, tpr_cv, label=f\"Lasso with CV AUC = {roc_auc_cv:.2f}\")\n",
    "\n",
    "# Plot the ROC AUC curve for both cases\n",
    "plt.legend()\n",
    "plt.xlabel('False Positive Rate')\n",
    "plt.ylabel('True Positive Rate')\n",
    "plt.title('ROC AUC Curve')\n",
    "plt.show()"
   ]
  }
 ],
 "metadata": {
  "kernelspec": {
   "display_name": "AIPI510",
   "language": "python",
   "name": "python3"
  },
  "language_info": {
   "codemirror_mode": {
    "name": "ipython",
    "version": 3
   },
   "file_extension": ".py",
   "mimetype": "text/x-python",
   "name": "python",
   "nbconvert_exporter": "python",
   "pygments_lexer": "ipython3",
   "version": "3.10.2"
  },
  "orig_nbformat": 4
 },
 "nbformat": 4,
 "nbformat_minor": 2
}
