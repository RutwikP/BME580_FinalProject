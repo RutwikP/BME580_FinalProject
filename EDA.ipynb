{
 "cells": [
  {
   "cell_type": "code",
   "execution_count": 5,
   "metadata": {},
   "outputs": [],
   "source": [
    "import pyreadstat\n",
    "import numpy as np\n",
    "import pandas as pd\n",
    "import matplotlib as plt \n",
    "import seaborn as sns"
   ]
  },
  {
   "cell_type": "code",
   "execution_count": 9,
   "metadata": {},
   "outputs": [
    {
     "name": "stdout",
     "output_type": "stream",
     "text": [
      "['__class__', '__delattr__', '__dict__', '__dir__', '__doc__', '__eq__', '__format__', '__ge__', '__getattribute__', '__gt__', '__hash__', '__init__', '__init_subclass__', '__le__', '__lt__', '__module__', '__ne__', '__new__', '__reduce__', '__reduce_ex__', '__repr__', '__setattr__', '__sizeof__', '__str__', '__subclasshook__', '__weakref__', 'column_labels', 'column_names', 'column_names_to_labels', 'file_encoding', 'file_format', 'file_label', 'missing_ranges', 'missing_user_values', 'notes', 'number_columns', 'number_rows', 'original_variable_types', 'readstat_variable_types', 'table_name', 'value_labels', 'variable_alignment', 'variable_display_width', 'variable_measure', 'variable_storage_width', 'variable_to_label', 'variable_value_labels']\n"
     ]
    }
   ],
   "source": [
    "hip_fracture_df, hip_fracture_metadata = pyreadstat.read_sav('../../Analysis/Data/HipFractureQualityData.sav')\n",
    "print(dir(hip_fracture_metadata))\n"
   ]
  },
  {
   "cell_type": "code",
   "execution_count": 10,
   "metadata": {},
   "outputs": [
    {
     "name": "stdout",
     "output_type": "stream",
     "text": [
      "{'CASEID': 'CASEID', 'HIP_PREOP_DEMENTIA': 'Pre-operative dementia', 'HIP_PREOP_DELIRIUM': 'Pre-operative delirium', 'HIP_PREOP_BONEMEDS': 'Pre-fracture bone protection medication prescription', 'HIP_PREOP_MOBAID': 'Use of Mobility Aid', 'HIP_PREOP_PRESSORE': 'Pre-operative pressure sore', 'HIP_MED_COMGMT': 'Medical co-management', 'HIP_STDCARE': 'Standardized hip fracture care program', 'HIP_WBAT_POD1': 'Weight bearing as tolerated (WBAT) on POD #1', 'HIP_DVT_28D': 'Medical DVT prophylaxis continued 28 days post-op', 'HIP_FRACTYPE': 'Type/location of fracture', 'HIP_PATHFRAC': 'Pathological fracture', 'HIP_POST_PRESSORE': 'New post-operative pressure sore', 'HIP_POST_DELIRIUM': 'Post-operative delirium', 'HIP_POST_MOBAID': 'Postoperative use of mobility aid', 'HIP_POST_BONEMEDS': 'Prescription of post-op bone protection medication', 'HIP_RES30D': 'Place of residence at 30 days post-op', 'SEX': 'Gender', 'RACE_NEW': 'New Race', 'ETHNICITY_HISPANIC': 'Ethnicity Hispanic', 'PRNCPTX': 'Principal Operative Procedure CPT code description', 'CPT': 'CPT', 'WORKRVU': 'Work Relative Value Unit', 'INOUT': 'Inpatient/outpatient', 'TRANST': 'Transfer status', 'AGE': 'Age of patient with patients over 89 coded as 90+', 'ADMYR': 'Year of Admission', 'OPERYR': 'Year of Operation', 'DISCHDEST': 'Discharge Destination', 'ANESTHES': 'Principal anesthesia technique', 'SURGSPEC': 'Surgical Specialty', 'ELECTSURG': 'Elective Surgery', 'HEIGHT': 'Height in inches', 'WEIGHT': 'Weight in lbs', 'DIABETES': 'Diabetes melitus with oral agents or insulin', 'SMOKE': 'Current smoker within one year', 'DYSPNEA': 'Dyspnea', 'FNSTATUS2': 'Functional health status Prior to Surgery', 'VENTILAT': 'Ventilator dependent', 'HXCOPD': 'History of Severe COPD', 'ASCITES': 'Ascites', 'HXCHF': 'Congestive heart failure (CHF) in 30 days before surgery', 'HYPERMED': 'Hypertension requiring medication', 'RENAFAIL': 'Acute renal failure (post-op)', 'DIALYSIS': 'Currently on dialysis (pre-op', 'DISCANCR': 'Disseminated cancer', 'WNDINF': 'Open wound/wound infection', 'STEROID': 'Steroid use for chronic condition', 'WTLOSS': '>10% loss body weight in last 6 months', 'BLEEDIS': 'Bleeding disorders', 'TRANSFUS': 'Transfusion >= 1 units PRBCs in 72 hours before surgery', 'PRSEPIS': 'Systemic Sepsis', 'DPRNA': 'Days from Na Preoperative Labs to Operation', 'DPRBUN': 'Days from BUN Preoperative Labs to Operation', 'DPRCREAT': 'Days from Creatine Preoperative Labs to Operation', 'DPRALBUM': 'Days from Albumin Preoperative Labs to Operation', 'DPRBILI': 'Days from Bilirubin Preoperative Labs to Operation', 'DPRSGOT': 'Days from SGOT Preoperative Labs to Operation', 'DPRALKPH': 'Days from ALKPHOS Preoperative Labs to Operation', 'DPRWBC': 'Days from WBC Preoperative Labs to Operation', 'DPRHCT': 'Days from HCT Preoperative Labs to Operation', 'DPRPLATE': 'Days from PlateCount Preoperative Labs to Operation', 'DPRPTT': 'Days from PTT Preoperative Labs to Operation', 'DPRPT': 'Days from PT Preoperative Labs to Operation', 'DPRINR': 'Days from INR Preoperative Labs to Operation', 'PRSODM': 'Pre-operative serium sodium', 'PRBUN': 'Pre-operative BUN', 'PRCREAT': 'Pre-operative serium creatinine', 'PRALBUM': 'Pre-operative serium albumin', 'PRBILI': 'Pre-operative total bilirubin', 'PRSGOT': 'Pre-operative SGOT', 'PRALKPH': 'Pre-operative alkaline phosphatase', 'PRWBC': 'Pre-operative WBC', 'PRHCT': 'Pre-operative hematocrit', 'PRPLATE': 'Pre-operative platelet count', 'PRPTT': 'Pre-operative PTT', 'PRINR': 'Pre-operative International Normalized Ratio (INR) of PT values', 'PRPT': 'Pre-operative PT', 'OTHERPROC1': 'Other Procedure 1', 'OTHERCPT1': 'Other CPT 1', 'OTHERWRVU1': 'Other Work Relative Value Unit 1', 'OTHERPROC2': 'Other Procedure 2', 'OTHERCPT2': 'Other CPT 2', 'OTHERWRVU2': 'Other Work Relative Value Unit 2', 'OTHERPROC3': 'Other Procedure 3', 'OTHERCPT3': 'Other CPT 3', 'OTHERWRVU3': 'Other Work Relative Value Unit 3', 'OTHERPROC4': 'Other Procedure 4', 'OTHERCPT4': 'Other CPT 4', 'OTHERWRVU4': 'Other Work Relative Value Unit 4', 'OTHERPROC5': 'Other Procedure 5', 'OTHERCPT5': 'Other CPT 5', 'OTHERWRVU5': 'Other Work Relative Value Unit 5', 'CONCURR1': 'Concurrent Procedure 1', 'CONCPT1': 'Concurrent CPT 1', 'CONWRVU1': 'Concurrent Work Relative Value Unit 1', 'CONCURR2': 'Concurrent Procedure 2', 'CONCPT2': 'Concurrent CPT 2', 'CONWRVU2': 'Concurrent Work Relative Value Unit 2', 'CONCURR3': 'Concurrent Procedure 3', 'CONCPT3': 'Concurrent CPT 3', 'CONWRVU3': 'Concurrent Work Relative Value Unit 3', 'CONCURR4': 'Concurrent Procedure 4', 'CONCPT4': 'Concurrent CPT 4', 'CONWRVU4': 'Concurrent Work Relative Value Unit 4', 'CONCURR5': 'Concurrent Procedure 5', 'CONCPT5': 'Concurrent CPT 5', 'CONWRVU5': 'Concurrent Work Relative Value Unit 5', 'EMERGNCY': 'Emergency case', 'WNDCLAS': 'Wound classification', 'ASACLAS': 'ASA classification', 'MORTPROB': 'Estimated Probability of Mortality', 'MORBPROB': 'Estimated Probability of Morbidity', 'OPTIME': 'Total operation time', 'HDISDT': 'Hospital discharge year', 'YRDEATH': 'Year of death', 'TOTHLOS': 'Length of total hospital stay', 'ADMQTR': 'Quarter of Admission', 'HTOODAY': 'Days from Hospital Admission to Operation', 'NSUPINFEC': 'Number of Superficial Incisional SSI Occurrences', 'SUPINFEC': 'Occurrences Superficial surgical site infection', 'SSSIPATOS': 'Superficial Incisional SSI PATOS', 'DSUPINFEC': 'Days from Operation until Superficial Incisional SSI Complication', 'NWNDINFD': 'Number of Deep Incisional SSI Occurrences', 'WNDINFD': 'Occurrences Deep Incisional SSI', 'DSSIPATOS': 'Deep Incisional SSI PATOS', 'DWNDINFD': 'Days from Operation until Deep Incisional SSI Complication', 'NORGSPCSSI': 'Number of Organ/Space SSI Occurrences', 'ORGSPCSSI': 'Occurrences Organ Space SSI', 'OSSIPATOS': 'Organ/Space SSI PATOS', 'DORGSPCSSI': 'Days from Operation until Organ/Space SSI Complication', 'NDEHIS': 'Number of Wound Disruption Occurrences', 'DEHIS': 'Occurrences Wound Disrupt', 'DDEHIS': 'Days from Operation until Wound Disruption Complication', 'NOUPNEUMO': 'Number of Pneumonia Occurrences', 'OUPNEUMO': 'Occurrences Pneumonia', 'PNAPATOS': 'Pneumonia PATOS', 'DOUPNEUMO': 'Days from Operation until Pneumonia Complication', 'NREINTUB': 'Number of Unplanned Intubation Occurrences', 'REINTUB': 'Occurrences Unplanned Intubation', 'DREINTUB': 'Days from Operation until Unplanned Intubation Complication', 'NPULEMBOL': 'Number of Pulmonary Embolism Occurrences', 'PULEMBOL': 'Occurrences Pulmonary Embolism', 'DPULEMBOL': 'Days from Operation until Pulmonary Embolism Complication', 'NFAILWEAN': 'Number of On Ventilator > 48 Hours Occurrences', 'FAILWEAN': 'Occurrences Ventilator > 48 Hours', 'VENTPATOS': 'On Ventilator > 48 Hours PATOS', 'DFAILWEAN': 'Days from Operation until On Ventilator > 48 Hours Complication', 'NRENAINSF': 'Number of Progressive Renal Insufficiency Occurrences', 'RENAINSF': 'Occurrences Progressive Renal Insufficiency', 'DRENAINSF': 'Days from Operation until Progressive Renal Insufficiency Complication', 'NOPRENAFL': 'Number of Acute Renal Failure Occurrences', 'OPRENAFL': 'Occurrences Acute Renal Fail', 'DOPRENAFL': 'Days from Operation until Acute Renal Failure Complication', 'NURNINFEC': 'Number of Urinary Tract Infection Occurrences', 'URNINFEC': 'Occurrences Urinary Tract Infection', 'UTIPATOS': 'UTI PATOS', 'DURNINFEC': 'Days from Operation until Urinary Tract Infection Complication', 'NCNSCVA': 'Number of Stroke/CVA Occurrences', 'CNSCVA': 'CVA/Stroke with neurological deficit', 'DCNSCVA': 'Days from Operation until Stroke/CVA Complication', 'NCDARREST': 'Number of Cardiac Arrest Requiring CPR Occurrences', 'CDARREST': 'Occurrences Cardiac Arrest Requiring CPR', 'DCDARREST': 'Days from Operation until Cardiac Arrest Requiring CPR Complication', 'NCDMI': 'Number of Myocardial Infarction Occurrences', 'CDMI': 'Occurrences Myocardial Infarction', 'DCDMI': 'Days from Operation until Myocardial Infarction Complication', 'NOTHBLEED': 'Number of Bleeding Transfusions Occurrences', 'OTHBLEED': 'Occurrences Bleeding Transfusions', 'DOTHBLEED': 'Days from Operation until Bleeding Transfusions Complication', 'NOTHDVT': 'Number of DVT/Thrombophlebitis Occurrences', 'OTHDVT': 'Occurrences DVT/Thrombophlebitis', 'DOTHDVT': 'Days from Operation until DVT/Thrombophlebtis Complication', 'NOTHSYSEP': 'Number of Sepsis Occurrences', 'OTHSYSEP': 'Occurrences Sepsis', 'SEPSISPATOS': 'Sepsis PATOS', 'DOTHSYSEP': 'Days from Operation until Sepsis Complication', 'NOTHSESHOCK': 'Number of Septic Shock Occurrences', 'OTHSESHOCK': 'Occurrences Septic Shock', 'SEPSHOCKPATOS': 'Septic Shock PATOS', 'DOTHSESHOCK': 'Days from Operation until Septic Shock Complication', 'PODIAG': 'Post-op Diagnosis (ICD 9)', 'PODIAGTX': 'Post-op Diagnosis Text', 'PODIAG10': 'Post-op Diagnosis (ICD 10)', 'PODIAGTX10': 'Post-op Diagnosis Text', 'RETURNOR': 'Return to OR', 'DOPERTOD': 'Days from Operation to Death', 'DOPTODIS': 'Days from Operation to Discharge', 'STILLINHOSP': 'Still in Hospital > 30 Days', 'REOPERATION1': 'Unplanned Reoperation 1', 'RETORPODAYS': 'Days from principal operative procedure to unplanned reoperation 1', 'REOPORCPT1': 'Unplanned Reoperation 1 CPT', 'REOPERATION2': 'Unplanned Reoperation 2', 'RETOR2PODAYS': 'Days from principal operative procedure to unplanned reoperation 2', 'REOPOR2CPT1': 'Unplanned Reoperation 2 CPT', 'RETOR2RELATED': 'Unplanned Reoperation 2 related to principal operative procedure', 'REOPOR2ICD91': 'Unplanned Reoperation 2 ICD-9', 'REOPERATION3': 'More than 2 unplanned reoperations', 'READMISSION1': 'Any Readmission 1', 'READMPODAYS1': 'Days from principal operative procedure to any readmission 1', 'UNPLANNEDREADMISSION1': 'Unplanned Readmission 1', 'READMRELATED1': 'Unplanned Readmission 1 likely related to the principal procedure', 'READMSUSPREASON1': 'Readmission related suspected reason 1', 'READMISSION2': 'Any Readmission 2', 'READMPODAYS2': 'Days from principal operative procedure to any readmission 2', 'UNPLANNEDREADMISSION2': 'Unplanned Readmission 2', 'READMRELATED2': 'Unplanned Readmission 2 likely related to the principal procedure', 'READMRELICD92': 'Readmission related ICD-9 code 2', 'READMISSION3': 'Any Readmission 3', 'READMPODAYS3': 'Days from principal operative procedure to any readmission 3', 'UNPLANNEDREADMISSION3': 'Unplanned Readmission 3', 'READMRELATED3': 'Unplanned Readmission 3 likely related to the principal procedure', 'READMSUSPREASON3': 'Readmission related suspected reason 3', 'READMRELICD93': 'Readmission related ICD-9 code 3', 'WOUND_CLOSURE': 'Surgical wound closure', 'PODIAG_OTHER': 'Other postoperative occurrence (ICD 9)', 'PODIAG_OTHER10': 'Other postoperative occurrence (ICD 10)', 'ANESTHES_OTHER': 'Additional anesthesia technique', 'OTHCDIFF': 'Occurrences Clostridium Difficle (C. diff) Colitis', 'NOTHCDIFF': 'Number of C. diff Occurrences', 'DOTHCDIFF': 'Days from Operation until C diff Complication', 'EOL_WDCARE': 'End of Life/Withdrawal of Care', 'BLEED_UNITS_TOT': 'Postop Total Transfusion Amount', 'RETORRELATED': 'Unplanned Reoperation 1 related to principal operative procedure', 'READMSUSPREASON2': 'Readmission related suspected reason 2', 'GenderData_1': 'SEX=female', 'GenderData_2': 'SEX=male', 'GenderData_3': 'SEX=non-bi', 'RaceData_4': 'RACE_NEW=American Indian or Alaska Native', 'RaceData_5': 'RACE_NEW=Asian', 'RaceData_Black': 'RACE_NEW=Black or African American', 'RaceData_7': 'RACE_NEW=Native Hawaiian or Other Pacific Islander', 'RaceData_8': 'RACE_NEW=Native Hawaiian or Pacific Islander', 'RaceData_9': 'RACE_NEW=Some Other Race', 'RaceData_10': 'RACE_NEW=Unknown/Not Reported', 'RaceData_11': 'RACE_NEW=White', 'Ethnicity_12': 'ETHNICITY_HISPANIC=NULL', 'Ethnicity_13': 'ETHNICITY_HISPANIC=Unknown', 'Ethnicity_14': 'ETHNICITY_HISPANIC=Y', 'TransferStatus_15': 'TRANST=From acute care hospital inpatient', 'TransferStatus_16': 'TRANST=Not transferred (admitted from home)', 'TransferStatus_17': 'TRANST=Nursing home - Chronic care - Intermediate care', 'TransferStatus_18': 'TRANST=Outside emergency department', 'TransferStatus_19': 'TRANST=Transfer from other', 'TransferStatus_20': 'TRANST=Unknown', 'DispoLocationPost_21': 'DISCHDEST=Against Medical Advice (AMA)', 'DispoLocationPost_22': 'DISCHDEST=Expired', 'DispoLocationPost_23': 'DISCHDEST=Facility Which was Home', 'DispoLocationPost_24': 'DISCHDEST=Home', 'DispoLocationPost_25': 'DISCHDEST=Hospice', 'DispoLocationPost_26': 'DISCHDEST=Multi-level Senior Community', 'DispoLocationPost_27': 'DISCHDEST=NULL', 'DispoLocationPost_28': 'DISCHDEST=Rehab', 'DispoLocationPost_29': 'DISCHDEST=Separate Acute Care', 'DispoLocationPost_30': 'DISCHDEST=Skilled Care, Not Home', 'DispoLocationPost_31': 'DISCHDEST=Unknown', 'DispoLocationPost_32': 'DISCHDEST=Unskilled Facility Not Home', 'DiabetesPre_33': 'DIABETES=INSULIN', 'DiabetesPre_34': 'DIABETES=NO', 'DiabetesPre_35': 'DIABETES=NON-INSULIN', 'SmokePre_37': 'SMOKE=Yes', 'DyspneaPre_38': 'DYSPNEA=AT REST', 'DyspneaPre_39': 'DYSPNEA=MODERATE EXERTION', 'DyspneaPre_40': 'DYSPNEA=No', 'FncStatusPre_41': 'FNSTATUS2=Independent', 'FncStatusPre_42': 'FNSTATUS2=Partially Dependent', 'FncStatusPre_43': 'FNSTATUS2=Totally Dependent', 'FncStatusPre_44': 'FNSTATUS2=Unknown', 'VentDepPre_46': 'VENTILAT=Yes', 'COPDPre_48': 'HXCOPD=Yes', 'AscitesPre_50': 'ASCITES=Yes', 'CHFPre_52': 'HXCHF=Yes', 'HTNPre_54': 'HYPERMED=Yes', 'DialysisPre_56': 'DIALYSIS=Yes', 'CancerPre_58': 'DISCANCR=Yes', 'WoundInfectionPre_60': 'WNDINF=Yes', 'SteroidPre_62': 'STEROID=Yes', 'WtLossPre_64': 'WTLOSS=Yes', 'BleedingDisPre_66': 'BLEEDIS=Yes', 'TfnPre_68': 'TRANSFUS=Yes', 'SepsisPre_69': 'PRSEPIS=None', 'SepsisPre_70': 'PRSEPIS=SIRS', 'SepsisPre_71': 'PRSEPIS=Sepsis', 'SepsisPre_72': 'PRSEPIS=Septic Shock', 'ASAPre_73': 'ASACLAS=1-No Disturb', 'ASAPre_74': 'ASACLAS=2-Mild Disturb', 'ASAPre_75': 'ASACLAS=3-Severe Disturb', 'ASAPre_76': 'ASACLAS=4-Life Threat', 'ASAPre_77': 'ASACLAS=5-Moribund', 'ASAPre_78': 'ASACLAS=None assigned', 'SSIPost_80': 'SUPINFEC=Superficial Incisional SSI', 'DeepSSIPost_81': 'WNDINFD=Deep Incisional SSI', 'OrganSpacePost_84': 'ORGSPCSSI=Organ/Space SSI', 'WoundDisruptionPost_86': 'DEHIS=Wound Disruption', 'PneumoniaPost_88': 'OUPNEUMO=Pneumonia', 'ReintubPost_90': 'REINTUB=Unplanned Intubation', 'PulmEmbPost_92': 'PULEMBOL=Pulmonary Embolism', 'VentPost_94': 'FAILWEAN=On Ventilator greater than 48 Hours', 'ProgRenalPost_96': 'RENAINSF=Progressive Renal Insufficiency', 'AcuterenalPost_97': 'OPRENAFL=Acute Renal Failure', 'UTIPost_100': 'URNINFEC=Urinary Tract Infection', 'StrokePost_101': 'CNSCVA=No Complication', 'CardiacArrestPost_103': 'CDARREST=Cardiac Arrest Requiring CPR', 'MIPost_105': 'CDMI=Myocardial Infarction', 'BleedingTfnPost_108': 'OTHBLEED=Transfusions/Intraop/Postop', 'DVTPost_109': 'OTHDVT=DVT Requiring Therapy', 'SepsisPost_112': 'OTHSYSEP=Sepsis', 'SepticShockPost_114': 'OTHSESHOCK=Septic Shock', 'ReOPPost_115': 'RETURNOR=No', 'ReOPPost_116': 'RETURNOR=Yes', 'ReadmissionPost_117': 'READMISSION1=NULL', 'ReadmissionPost_119': 'READMISSION1=Yes', 'Readmission2Post_1': 'READMISSION2=NULL', 'Readmission2Post_2': 'READMISSION2=No', 'Readmission2Post_3': 'READMISSION2=Yes', 'Readmission3Post_4': 'READMISSION3=NULL', 'Readmission3Post_5': 'READMISSION3=Yes', 'Mortality': 'Mortality', 'AnyAdverseEvent': 'Any Adverse Event', 'ClaivenDindo': 'Claiven Dindo Complication', 'LOSmissing': 'LOSmissing', 'WtMissing1': 'WtMissing1', 'HtMissing1': 'HtMissing1', 'agemissing': 'agemissing', 'MissingVariableInfo2': 'MissingVariables', 'BMI': 'BMI', 'BMICategories': 'BMI Categories', 'ObesityBinary': 'Obese', 'CardiacComplications': 'Cardiac Complications', 'InfectiousComplications': 'Infectious Complications', 'Stroke_1': 'CNSCVA=No Complication', 'Stroke_2': 'CNSCVA=Stroke/CVA', 'PreOpDementia_2': 'HIP_PREOP_DEMENTIA=Yes', 'PreOpDelirium_3': 'HIP_PREOP_DELIRIUM=NULL', 'PreOpDelirium_5': 'HIP_PREOP_DELIRIUM=Yes', 'PreOpBoneMeds_7': 'HIP_PREOP_BONEMEDS=Yes', 'PreOpMOBAID_9': 'HIP_PREOP_MOBAID=Unknown', 'PreOpMOBAID_10': 'HIP_PREOP_MOBAID=Yes', 'PreOpPressSore_12': 'HIP_PREOP_PRESSORE=Yes', 'MEDMGMT_13': 'HIP_MED_COMGMT=No', 'MEDMGMT_14': 'HIP_MED_COMGMT=Yes-co-management throughout stay', 'MEDMGMT_15': 'HIP_MED_COMGMT=Yes-partial co-management during stay', 'StandardHip_17': 'HIP_STDCARE=Yes', 'WBATPOD1_18': 'HIP_WBAT_POD1=N/A (bed-ridden or other medical issues)', 'WBATPOD1_19': 'HIP_WBAT_POD1=NULL', 'WBATPOD1_21': 'HIP_WBAT_POD1=Yes', 'DVTProphylaxisPost28_22': 'HIP_DVT_28D=NULL', 'DVTProphylaxisPost28_24': 'HIP_DVT_28D=Yes', 'PostOpPRESSORE_26': 'HIP_POST_PRESSORE=Yes', 'PostOpDelirium_27': 'HIP_POST_DELIRIUM=NULL', 'PostOpDelirium_29': 'HIP_POST_DELIRIUM=Yes', 'PostOpMobAid_30': 'HIP_POST_MOBAID=N/A', 'PostOpMobAid_32': 'HIP_POST_MOBAID=Unknown', 'PostOpMobAid_33': 'HIP_POST_MOBAID=Yes', 'PostOpBoneMed_35': 'HIP_POST_BONEMEDS=Yes', 'PostOpResidence30_36': 'HIP_RES30D=Expired', 'PostOpResidence30_37': 'HIP_RES30D=Facility which was home', 'PostOpResidence30_38': 'HIP_RES30D=Home', 'PostOpResidence30_39': 'HIP_RES30D=Separate acute care', 'PostOpResidence30_40': 'HIP_RES30D=Skilled care', 'PostOpResidence30_41': 'HIP_RES30D=Still in hospital', 'PostOpResidence30_42': 'HIP_RES30D=Unknown', 'PostOpResidence30_43': 'HIP_RES30D=Unskilled facility', 'HipFractureType_44': 'HIP_FRACTYPE=Femoral neck fracture (subcapital, Garden types 1 and 2)-undisplaced', 'HipFractureType_45': 'HIP_FRACTYPE=Femoral neck fracture (subcapital, Garden types 3 and 4)-displaced', 'HipFractureType_46': 'HIP_FRACTYPE=Intertrochanteric', 'HipFractureType_47': 'HIP_FRACTYPE=Other/cannot be determined', 'HipFractureType_48': 'HIP_FRACTYPE=Subtrochanteric', 'PathologicHipFractures_49': 'HIP_PATHFRAC=Atypical', 'PathologicHipFractures_50': 'HIP_PATHFRAC=None', 'PathologicHipFractures_51': 'HIP_PATHFRAC=Tumor', 'MissingRaceStudy': 'Missing Variable Race', 'Age65': 'Age65', 'MinorityPatient': None, 'QualityMetric': None, 'QualityGreater2': 'More than 2 Quality Metrics', 'DischargeNotHome': None, 'PartialorFullFuncStatus': None, 'DiabetesBinary': None, 'MFI5': None, 'PropensityScore22': 'Predicted probability', 'casematch22': None, 'albuminmissing': 'albuminmissing'}\n"
     ]
    }
   ],
   "source": [
    "column_labels = hip_fracture_metadata.column_labels \n",
    "column_mapping = {column: column_labels[i] for i, column in enumerate(hip_fracture_df.columns)}\n",
    "print(column_mapping)"
   ]
  },
  {
   "cell_type": "code",
   "execution_count": 12,
   "metadata": {},
   "outputs": [
    {
     "name": "stdout",
     "output_type": "stream",
     "text": [
      "<class 'pandas.core.frame.DataFrame'>\n",
      "RangeIndex: 36485 entries, 0 to 36484\n",
      "Columns: 383 entries, CASEID to albuminmissing\n",
      "dtypes: float64(254), object(129)\n",
      "memory usage: 106.6+ MB\n"
     ]
    },
    {
     "data": {
      "text/plain": [
       "White                                        34059\n",
       "Black or African American                     1311\n",
       "Asian                                          873\n",
       "American Indian or Alaska Native               201\n",
       "Native Hawaiian or Pacific Islander             31\n",
       "Native Hawaiian or Other Pacific Islander        5\n",
       "Some Other Race                                  5\n",
       "Name: RACE_NEW, dtype: int64"
      ]
     },
     "execution_count": 12,
     "metadata": {},
     "output_type": "execute_result"
    }
   ],
   "source": [
    "hip_fracture_df = pd.DataFrame(hip_fracture_df)\n",
    "pd.set_option('display.max_columns', None)\n",
    "pd.set_option('display.max_rows', None)\n",
    "pd.set_option('display.max_colwidth', None)\n",
    "hip_fracture_df.info()\n",
    "hip_fracture_df.head()\n",
    "hip_fracture_df['RACE_NEW'].value_counts()\n",
    "\n"
   ]
  },
  {
   "cell_type": "code",
   "execution_count": 13,
   "metadata": {},
   "outputs": [
    {
     "data": {
      "text/plain": [
       "White                                        34059\n",
       "Black or African American                     1311\n",
       "Asian                                          873\n",
       "American Indian or Alaska Native               201\n",
       "Native Hawaiian or Pacific Islander             31\n",
       "Native Hawaiian or Other Pacific Islander        5\n",
       "Some Other Race                                  5\n",
       "Name: RACE_NEW, dtype: int64"
      ]
     },
     "execution_count": 13,
     "metadata": {},
     "output_type": "execute_result"
    }
   ],
   "source": [
    "hip_fracture_df['RACE_NEW'].value_counts()"
   ]
  },
  {
   "cell_type": "code",
   "execution_count": null,
   "metadata": {},
   "outputs": [],
   "source": []
  }
 ],
 "metadata": {
  "kernelspec": {
   "display_name": "AIPI510",
   "language": "python",
   "name": "python3"
  },
  "language_info": {
   "codemirror_mode": {
    "name": "ipython",
    "version": 3
   },
   "file_extension": ".py",
   "mimetype": "text/x-python",
   "name": "python",
   "nbconvert_exporter": "python",
   "pygments_lexer": "ipython3",
   "version": "3.9.13"
  },
  "orig_nbformat": 4,
  "vscode": {
   "interpreter": {
    "hash": "05472299885e9246a99cf7e78e44d85a4ccc1aa9cbdb6c37cc833c93312c5eac"
   }
  }
 },
 "nbformat": 4,
 "nbformat_minor": 2
}
