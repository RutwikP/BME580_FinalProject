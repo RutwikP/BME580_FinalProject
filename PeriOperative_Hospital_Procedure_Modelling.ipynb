{
  "cells": [
    {
      "cell_type": "code",
      "source": [
        "from google.colab import drive\n",
        "drive.mount('/content/drive')"
      ],
      "metadata": {
        "colab": {
          "base_uri": "https://localhost:8080/"
        },
        "id": "2ekUeTQ-lKNo",
        "outputId": "b7ef9191-338e-4676-e8f7-6f28e2e77dae"
      },
      "execution_count": null,
      "outputs": [
        {
          "output_type": "stream",
          "name": "stdout",
          "text": [
            "Mounted at /content/drive\n"
          ]
        }
      ]
    },
    {
      "cell_type": "code",
      "execution_count": 43,
      "metadata": {
        "id": "78Mvd95LTtoZ"
      },
      "outputs": [],
      "source": [
        "import numpy as np\n",
        "import pandas as pd\n",
        "from pathlib import Path\n",
        "import matplotlib.pyplot as plt\n",
        "import xgboost as xgb\n",
        "from sklearn.preprocessing import OrdinalEncoder,OneHotEncoder\n",
        "from sklearn.preprocessing import StandardScaler, OneHotEncoder\n",
        "from sklearn.compose import ColumnTransformer\n",
        "from sklearn.pipeline import Pipeline\n",
        "from sklearn.impute import SimpleImputer\n",
        "from sklearn.feature_selection import SelectKBest\n",
        "from sklearn.model_selection import train_test_split,cross_val_score,GridSearchCV, KFold\n",
        "from sklearn.feature_selection import f_regression, mutual_info_regression, f_classif\n",
        "from sklearn.linear_model import LinearRegression, Lasso\n",
        "from sklearn.svm import SVC\n",
        "from sklearn.ensemble import RandomForestClassifier\n",
        "from sklearn.metrics import classification_report\n",
        "# from sklearn.metrics import plot_roc_curve\n",
        "from sklearn.metrics import roc_curve, auc\n",
        "from sklearn.metrics import r2_score\n",
        "import seaborn as sns\n",
        "from scipy.stats import pearsonr\n",
        "\n",
        "pd.set_option('display.max_columns', None)"
      ]
    },
    {
      "cell_type": "code",
      "execution_count": null,
      "metadata": {
        "id": "iNqDoRs4Ttod"
      },
      "outputs": [],
      "source": [
        "# read in training file \n",
        "# training_data = pd.read_csv('../Data/hip_fracture_training.csv')\n",
        "training_data = pd.read_csv('hip_fracture_training.csv')\n"
      ]
    },
    {
      "cell_type": "code",
      "execution_count": null,
      "metadata": {
        "id": "kGk-9J7ITtoe"
      },
      "outputs": [],
      "source": [
        "def filter_data(df, preop_cols): \n",
        "\n",
        "    # filters for only the preoperative columns\n",
        "    df_preop = df[preop_cols]\n",
        "\n",
        "    return df_preop    "
      ]
    },
    {
      "cell_type": "code",
      "execution_count": 34,
      "metadata": {
        "id": "LPwWhWiOTtoe",
        "outputId": "bc7dadb8-4b78-4a28-d10a-9d17265349b8",
        "colab": {
          "base_uri": "https://localhost:8080/"
        }
      },
      "outputs": [
        {
          "output_type": "stream",
          "name": "stdout",
          "text": [
            "(29188, 30)\n",
            "int64\n"
          ]
        }
      ],
      "source": [
        "peri_cols = [\n",
        "    'TransferStatus_17', 'TransferStatus_18', 'TransferStatus_19', 'TransferStatus_20',\n",
        "    'DispoLocationPost_21', 'DispoLocationPost_22', 'DispoLocationPost_23', 'DispoLocationPost_24',\n",
        "    'DispoLocationPost_25', 'DispoLocationPost_26', 'DispoLocationPost_27', 'DispoLocationPost_28',\n",
        "    'DispoLocationPost_29', 'DispoLocationPost_30', 'DispoLocationPost_31', 'DispoLocationPost_32',\n",
        "    'MEDMGMT_13', 'MEDMGMT_14', 'MEDMGMT_15', 'StandardHip_17', 'HipFractureType_44',\n",
        "    'HipFractureType_45', 'HipFractureType_46', 'HipFractureType_47', 'HipFractureType_48',\n",
        "    'PathologicHipFractures_49', 'PathologicHipFractures_50', 'PathologicHipFractures_51',\n",
        "    'DischargeNotHome', 'READMISSION30D'\n",
        "]\n",
        "peri_df = filter_data(training_data, peri_cols)\n",
        "\n",
        "print(peri_df.shape)\n",
        "\n",
        "print(peri_df.TransferStatus_20.dtype)"
      ]
    },
    {
      "cell_type": "code",
      "execution_count": 36,
      "metadata": {
        "id": "fyKpZO4DTtof",
        "colab": {
          "base_uri": "https://localhost:8080/"
        },
        "outputId": "e1842a97-fa8c-46f7-ec60-c0179d3e5971"
      },
      "outputs": [
        {
          "output_type": "stream",
          "name": "stdout",
          "text": [
            "(29155, 27)\n"
          ]
        },
        {
          "output_type": "stream",
          "name": "stderr",
          "text": [
            "<ipython-input-36-6a53de2183ea>:9: SettingWithCopyWarning: \n",
            "A value is trying to be set on a copy of a slice from a DataFrame\n",
            "\n",
            "See the caveats in the documentation: https://pandas.pydata.org/pandas-docs/stable/user_guide/indexing.html#returning-a-view-versus-a-copy\n",
            "  cleaned_df.drop(col,inplace=True,axis=1)\n",
            "<ipython-input-36-6a53de2183ea>:9: SettingWithCopyWarning: \n",
            "A value is trying to be set on a copy of a slice from a DataFrame\n",
            "\n",
            "See the caveats in the documentation: https://pandas.pydata.org/pandas-docs/stable/user_guide/indexing.html#returning-a-view-versus-a-copy\n",
            "  cleaned_df.drop(col,inplace=True,axis=1)\n",
            "<ipython-input-36-6a53de2183ea>:9: SettingWithCopyWarning: \n",
            "A value is trying to be set on a copy of a slice from a DataFrame\n",
            "\n",
            "See the caveats in the documentation: https://pandas.pydata.org/pandas-docs/stable/user_guide/indexing.html#returning-a-view-versus-a-copy\n",
            "  cleaned_df.drop(col,inplace=True,axis=1)\n"
          ]
        }
      ],
      "source": [
        "# next we need to remove unknowns\n",
        "unknwon_cols = ['TransferStatus_20', 'DispoLocationPost_31']\n",
        "\n",
        "cleaned_df = peri_df[(peri_df['TransferStatus_20'] != 1) & (peri_df['DispoLocationPost_31'] != 1)]\n",
        "\n",
        "# remove columns with only one unique value (does not add info)\n",
        "for col in cleaned_df.columns:\n",
        "    if len(cleaned_df[col].unique()) == 1:\n",
        "        cleaned_df.drop(col,inplace=True,axis=1)\n",
        "\n",
        "print(cleaned_df.shape)"
      ]
    },
    {
      "cell_type": "code",
      "execution_count": 37,
      "metadata": {
        "id": "6B1o3VJtTtog",
        "colab": {
          "base_uri": "https://localhost:8080/",
          "height": 1000
        },
        "outputId": "1c2492a8-78c3-4b99-97ad-aee7df691238"
      },
      "outputs": [
        {
          "output_type": "stream",
          "name": "stdout",
          "text": [
            "<class 'pandas.core.frame.DataFrame'>\n",
            "Int64Index: 23324 entries, 25505 to 26805\n",
            "Data columns (total 26 columns):\n",
            " #   Column                     Non-Null Count  Dtype\n",
            "---  ------                     --------------  -----\n",
            " 0   TransferStatus_17          23324 non-null  int64\n",
            " 1   TransferStatus_18          23324 non-null  int64\n",
            " 2   TransferStatus_19          23324 non-null  int64\n",
            " 3   DispoLocationPost_21       23324 non-null  int64\n",
            " 4   DispoLocationPost_22       23324 non-null  int64\n",
            " 5   DispoLocationPost_23       23324 non-null  int64\n",
            " 6   DispoLocationPost_24       23324 non-null  int64\n",
            " 7   DispoLocationPost_25       23324 non-null  int64\n",
            " 8   DispoLocationPost_26       23324 non-null  int64\n",
            " 9   DispoLocationPost_28       23324 non-null  int64\n",
            " 10  DispoLocationPost_29       23324 non-null  int64\n",
            " 11  DispoLocationPost_30       23324 non-null  int64\n",
            " 12  DispoLocationPost_32       23324 non-null  int64\n",
            " 13  MEDMGMT_13                 23324 non-null  int64\n",
            " 14  MEDMGMT_14                 23324 non-null  int64\n",
            " 15  MEDMGMT_15                 23324 non-null  int64\n",
            " 16  StandardHip_17             23324 non-null  int64\n",
            " 17  HipFractureType_44         23324 non-null  int64\n",
            " 18  HipFractureType_45         23324 non-null  int64\n",
            " 19  HipFractureType_46         23324 non-null  int64\n",
            " 20  HipFractureType_47         23324 non-null  int64\n",
            " 21  HipFractureType_48         23324 non-null  int64\n",
            " 22  PathologicHipFractures_49  23324 non-null  int64\n",
            " 23  PathologicHipFractures_50  23324 non-null  int64\n",
            " 24  PathologicHipFractures_51  23324 non-null  int64\n",
            " 25  DischargeNotHome           23324 non-null  int64\n",
            "dtypes: int64(26)\n",
            "memory usage: 4.8 MB\n"
          ]
        },
        {
          "output_type": "display_data",
          "data": {
            "text/plain": [
              "None"
            ]
          },
          "metadata": {}
        },
        {
          "output_type": "stream",
          "name": "stdout",
          "text": [
            "<class 'pandas.core.frame.DataFrame'>\n",
            "Int64Index: 5831 entries, 23776 to 16393\n",
            "Data columns (total 26 columns):\n",
            " #   Column                     Non-Null Count  Dtype\n",
            "---  ------                     --------------  -----\n",
            " 0   TransferStatus_17          5831 non-null   int64\n",
            " 1   TransferStatus_18          5831 non-null   int64\n",
            " 2   TransferStatus_19          5831 non-null   int64\n",
            " 3   DispoLocationPost_21       5831 non-null   int64\n",
            " 4   DispoLocationPost_22       5831 non-null   int64\n",
            " 5   DispoLocationPost_23       5831 non-null   int64\n",
            " 6   DispoLocationPost_24       5831 non-null   int64\n",
            " 7   DispoLocationPost_25       5831 non-null   int64\n",
            " 8   DispoLocationPost_26       5831 non-null   int64\n",
            " 9   DispoLocationPost_28       5831 non-null   int64\n",
            " 10  DispoLocationPost_29       5831 non-null   int64\n",
            " 11  DispoLocationPost_30       5831 non-null   int64\n",
            " 12  DispoLocationPost_32       5831 non-null   int64\n",
            " 13  MEDMGMT_13                 5831 non-null   int64\n",
            " 14  MEDMGMT_14                 5831 non-null   int64\n",
            " 15  MEDMGMT_15                 5831 non-null   int64\n",
            " 16  StandardHip_17             5831 non-null   int64\n",
            " 17  HipFractureType_44         5831 non-null   int64\n",
            " 18  HipFractureType_45         5831 non-null   int64\n",
            " 19  HipFractureType_46         5831 non-null   int64\n",
            " 20  HipFractureType_47         5831 non-null   int64\n",
            " 21  HipFractureType_48         5831 non-null   int64\n",
            " 22  PathologicHipFractures_49  5831 non-null   int64\n",
            " 23  PathologicHipFractures_50  5831 non-null   int64\n",
            " 24  PathologicHipFractures_51  5831 non-null   int64\n",
            " 25  DischargeNotHome           5831 non-null   int64\n",
            "dtypes: int64(26)\n",
            "memory usage: 1.2 MB\n"
          ]
        },
        {
          "output_type": "display_data",
          "data": {
            "text/plain": [
              "None"
            ]
          },
          "metadata": {}
        },
        {
          "output_type": "stream",
          "name": "stdout",
          "text": [
            "<class 'pandas.core.frame.DataFrame'>\n",
            "Int64Index: 23324 entries, 25505 to 26805\n",
            "Data columns (total 1 columns):\n",
            " #   Column          Non-Null Count  Dtype\n",
            "---  ------          --------------  -----\n",
            " 0   READMISSION30D  23324 non-null  int64\n",
            "dtypes: int64(1)\n",
            "memory usage: 364.4 KB\n"
          ]
        },
        {
          "output_type": "display_data",
          "data": {
            "text/plain": [
              "None"
            ]
          },
          "metadata": {}
        },
        {
          "output_type": "stream",
          "name": "stdout",
          "text": [
            "<class 'pandas.core.frame.DataFrame'>\n",
            "Int64Index: 5831 entries, 23776 to 16393\n",
            "Data columns (total 1 columns):\n",
            " #   Column          Non-Null Count  Dtype\n",
            "---  ------          --------------  -----\n",
            " 0   READMISSION30D  5831 non-null   int64\n",
            "dtypes: int64(1)\n",
            "memory usage: 91.1 KB\n"
          ]
        },
        {
          "output_type": "display_data",
          "data": {
            "text/plain": [
              "None"
            ]
          },
          "metadata": {}
        }
      ],
      "source": [
        "def split_data(df): \n",
        "    X = df.drop(labels = ['READMISSION30D'], axis = 1) \n",
        "    y = pd.DataFrame(df['READMISSION30D']) \n",
        "    X_train,X_test,y_train,y_test = train_test_split(X, y, stratify = y, test_size= .2, random_state= 0 )\n",
        "    return X_train,X_test,y_train,y_test\n",
        "\n",
        "X_train,X_test,y_train,y_test = split_data(cleaned_df)\n",
        "display(X_train.info()) \n",
        "display(X_test.info())\n",
        "display(y_train.info())\n",
        "display(y_test.info())\n"
      ]
    },
    {
      "cell_type": "code",
      "execution_count": 38,
      "metadata": {
        "id": "xspC_hEGTtoh"
      },
      "outputs": [],
      "source": [
        "def rf_feature_importance(X_train,X_test,y_train): \n",
        "\n",
        "    #we will start off using the default scikit learn features \n",
        "    rf_model = RandomForestClassifier(criterion='gini',max_depth=None, min_samples_leaf=5,n_estimators=1000,\n",
        "                                 max_features=0.1,max_samples=0.7,random_state=0)\n",
        "     #Fit the tree to the data\n",
        "    rf_model.fit(X_train, y_train)\n",
        "\n",
        "    #predict on the validation set\n",
        "    preds = rf_model.predict(X_test)\n",
        "\n",
        "    #define feature names \n",
        "    feat_names = X_train.columns \n",
        "\n",
        "    #define the number of features to show\n",
        "    num_to_show = 55 \n",
        "\n",
        "    # Determine the relative importance of each feature using the random forest model\n",
        "    importances = rf_model.feature_importances_\n",
        "\n",
        "    # Get an array of the indices that would sort \"importances\" in reverse order to get largest to smallest\n",
        "    indices = np.argsort(importances)[::-1]\n",
        "    ranked_feats = []\n",
        "    for i in range(len(indices)):\n",
        "        feat_name = feat_names[indices[i]]\n",
        "        ranked_feats.append(feat_name)\n",
        "    RF_ranking = pd.DataFrame()\n",
        "    RF_ranking['Feat Index'] = indices\n",
        "    RF_ranking['Feature'] = ranked_feats\n",
        "    RF_ranking['Importance'] = np.sort(importances)[::-1]\n",
        "    display(RF_ranking.iloc[:num_to_show,:])\n",
        "\n",
        "    # Plot the importance value for each feature\n",
        "    RF_ranking[:30][::-1].plot(x='Feature',y='Importance',kind='barh',figsize=(12,7),legend=False,title='RF Feature Importance')\n",
        "    plt.show()\n",
        "\n",
        "    return RF_ranking, rf_model, preds"
      ]
    },
    {
      "cell_type": "code",
      "execution_count": 39,
      "metadata": {
        "id": "BpquGY9_Ttoi",
        "colab": {
          "base_uri": "https://localhost:8080/",
          "height": 1116
        },
        "outputId": "d667d4ce-dcae-4219-d052-62759adf8b35"
      },
      "outputs": [
        {
          "output_type": "stream",
          "name": "stderr",
          "text": [
            "<ipython-input-38-220ee39987aa>:7: DataConversionWarning: A column-vector y was passed when a 1d array was expected. Please change the shape of y to (n_samples,), for example using ravel().\n",
            "  rf_model.fit(X_train, y_train)\n"
          ]
        },
        {
          "output_type": "display_data",
          "data": {
            "text/plain": [
              "    Feat Index                    Feature  Importance\n",
              "0           16             StandardHip_17    0.110977\n",
              "1            4       DispoLocationPost_22    0.088902\n",
              "2            1          TransferStatus_18    0.066545\n",
              "3           11       DispoLocationPost_30    0.057158\n",
              "4            0          TransferStatus_17    0.054766\n",
              "5           19         HipFractureType_46    0.048036\n",
              "6           17         HipFractureType_44    0.046280\n",
              "7           18         HipFractureType_45    0.045561\n",
              "8           14                 MEDMGMT_14    0.043094\n",
              "9            6       DispoLocationPost_24    0.042558\n",
              "10          24  PathologicHipFractures_51    0.041660\n",
              "11           9       DispoLocationPost_28    0.040905\n",
              "12          21         HipFractureType_48    0.037908\n",
              "13          15                 MEDMGMT_15    0.037479\n",
              "14          25           DischargeNotHome    0.036723\n",
              "15          23  PathologicHipFractures_50    0.033754\n",
              "16           7       DispoLocationPost_25    0.030934\n",
              "17          13                 MEDMGMT_13    0.027468\n",
              "18          22  PathologicHipFractures_49    0.027150\n",
              "19           2          TransferStatus_19    0.027011\n",
              "20          20         HipFractureType_47    0.023554\n",
              "21           5       DispoLocationPost_23    0.017081\n",
              "22          12       DispoLocationPost_32    0.007268\n",
              "23          10       DispoLocationPost_29    0.006304\n",
              "24           8       DispoLocationPost_26    0.000541\n",
              "25           3       DispoLocationPost_21    0.000383"
            ],
            "text/html": [
              "\n",
              "  <div id=\"df-cd35300c-bd22-4d96-b35d-d3be7a7cb3c8\">\n",
              "    <div class=\"colab-df-container\">\n",
              "      <div>\n",
              "<style scoped>\n",
              "    .dataframe tbody tr th:only-of-type {\n",
              "        vertical-align: middle;\n",
              "    }\n",
              "\n",
              "    .dataframe tbody tr th {\n",
              "        vertical-align: top;\n",
              "    }\n",
              "\n",
              "    .dataframe thead th {\n",
              "        text-align: right;\n",
              "    }\n",
              "</style>\n",
              "<table border=\"1\" class=\"dataframe\">\n",
              "  <thead>\n",
              "    <tr style=\"text-align: right;\">\n",
              "      <th></th>\n",
              "      <th>Feat Index</th>\n",
              "      <th>Feature</th>\n",
              "      <th>Importance</th>\n",
              "    </tr>\n",
              "  </thead>\n",
              "  <tbody>\n",
              "    <tr>\n",
              "      <th>0</th>\n",
              "      <td>16</td>\n",
              "      <td>StandardHip_17</td>\n",
              "      <td>0.110977</td>\n",
              "    </tr>\n",
              "    <tr>\n",
              "      <th>1</th>\n",
              "      <td>4</td>\n",
              "      <td>DispoLocationPost_22</td>\n",
              "      <td>0.088902</td>\n",
              "    </tr>\n",
              "    <tr>\n",
              "      <th>2</th>\n",
              "      <td>1</td>\n",
              "      <td>TransferStatus_18</td>\n",
              "      <td>0.066545</td>\n",
              "    </tr>\n",
              "    <tr>\n",
              "      <th>3</th>\n",
              "      <td>11</td>\n",
              "      <td>DispoLocationPost_30</td>\n",
              "      <td>0.057158</td>\n",
              "    </tr>\n",
              "    <tr>\n",
              "      <th>4</th>\n",
              "      <td>0</td>\n",
              "      <td>TransferStatus_17</td>\n",
              "      <td>0.054766</td>\n",
              "    </tr>\n",
              "    <tr>\n",
              "      <th>5</th>\n",
              "      <td>19</td>\n",
              "      <td>HipFractureType_46</td>\n",
              "      <td>0.048036</td>\n",
              "    </tr>\n",
              "    <tr>\n",
              "      <th>6</th>\n",
              "      <td>17</td>\n",
              "      <td>HipFractureType_44</td>\n",
              "      <td>0.046280</td>\n",
              "    </tr>\n",
              "    <tr>\n",
              "      <th>7</th>\n",
              "      <td>18</td>\n",
              "      <td>HipFractureType_45</td>\n",
              "      <td>0.045561</td>\n",
              "    </tr>\n",
              "    <tr>\n",
              "      <th>8</th>\n",
              "      <td>14</td>\n",
              "      <td>MEDMGMT_14</td>\n",
              "      <td>0.043094</td>\n",
              "    </tr>\n",
              "    <tr>\n",
              "      <th>9</th>\n",
              "      <td>6</td>\n",
              "      <td>DispoLocationPost_24</td>\n",
              "      <td>0.042558</td>\n",
              "    </tr>\n",
              "    <tr>\n",
              "      <th>10</th>\n",
              "      <td>24</td>\n",
              "      <td>PathologicHipFractures_51</td>\n",
              "      <td>0.041660</td>\n",
              "    </tr>\n",
              "    <tr>\n",
              "      <th>11</th>\n",
              "      <td>9</td>\n",
              "      <td>DispoLocationPost_28</td>\n",
              "      <td>0.040905</td>\n",
              "    </tr>\n",
              "    <tr>\n",
              "      <th>12</th>\n",
              "      <td>21</td>\n",
              "      <td>HipFractureType_48</td>\n",
              "      <td>0.037908</td>\n",
              "    </tr>\n",
              "    <tr>\n",
              "      <th>13</th>\n",
              "      <td>15</td>\n",
              "      <td>MEDMGMT_15</td>\n",
              "      <td>0.037479</td>\n",
              "    </tr>\n",
              "    <tr>\n",
              "      <th>14</th>\n",
              "      <td>25</td>\n",
              "      <td>DischargeNotHome</td>\n",
              "      <td>0.036723</td>\n",
              "    </tr>\n",
              "    <tr>\n",
              "      <th>15</th>\n",
              "      <td>23</td>\n",
              "      <td>PathologicHipFractures_50</td>\n",
              "      <td>0.033754</td>\n",
              "    </tr>\n",
              "    <tr>\n",
              "      <th>16</th>\n",
              "      <td>7</td>\n",
              "      <td>DispoLocationPost_25</td>\n",
              "      <td>0.030934</td>\n",
              "    </tr>\n",
              "    <tr>\n",
              "      <th>17</th>\n",
              "      <td>13</td>\n",
              "      <td>MEDMGMT_13</td>\n",
              "      <td>0.027468</td>\n",
              "    </tr>\n",
              "    <tr>\n",
              "      <th>18</th>\n",
              "      <td>22</td>\n",
              "      <td>PathologicHipFractures_49</td>\n",
              "      <td>0.027150</td>\n",
              "    </tr>\n",
              "    <tr>\n",
              "      <th>19</th>\n",
              "      <td>2</td>\n",
              "      <td>TransferStatus_19</td>\n",
              "      <td>0.027011</td>\n",
              "    </tr>\n",
              "    <tr>\n",
              "      <th>20</th>\n",
              "      <td>20</td>\n",
              "      <td>HipFractureType_47</td>\n",
              "      <td>0.023554</td>\n",
              "    </tr>\n",
              "    <tr>\n",
              "      <th>21</th>\n",
              "      <td>5</td>\n",
              "      <td>DispoLocationPost_23</td>\n",
              "      <td>0.017081</td>\n",
              "    </tr>\n",
              "    <tr>\n",
              "      <th>22</th>\n",
              "      <td>12</td>\n",
              "      <td>DispoLocationPost_32</td>\n",
              "      <td>0.007268</td>\n",
              "    </tr>\n",
              "    <tr>\n",
              "      <th>23</th>\n",
              "      <td>10</td>\n",
              "      <td>DispoLocationPost_29</td>\n",
              "      <td>0.006304</td>\n",
              "    </tr>\n",
              "    <tr>\n",
              "      <th>24</th>\n",
              "      <td>8</td>\n",
              "      <td>DispoLocationPost_26</td>\n",
              "      <td>0.000541</td>\n",
              "    </tr>\n",
              "    <tr>\n",
              "      <th>25</th>\n",
              "      <td>3</td>\n",
              "      <td>DispoLocationPost_21</td>\n",
              "      <td>0.000383</td>\n",
              "    </tr>\n",
              "  </tbody>\n",
              "</table>\n",
              "</div>\n",
              "      <button class=\"colab-df-convert\" onclick=\"convertToInteractive('df-cd35300c-bd22-4d96-b35d-d3be7a7cb3c8')\"\n",
              "              title=\"Convert this dataframe to an interactive table.\"\n",
              "              style=\"display:none;\">\n",
              "        \n",
              "  <svg xmlns=\"http://www.w3.org/2000/svg\" height=\"24px\"viewBox=\"0 0 24 24\"\n",
              "       width=\"24px\">\n",
              "    <path d=\"M0 0h24v24H0V0z\" fill=\"none\"/>\n",
              "    <path d=\"M18.56 5.44l.94 2.06.94-2.06 2.06-.94-2.06-.94-.94-2.06-.94 2.06-2.06.94zm-11 1L8.5 8.5l.94-2.06 2.06-.94-2.06-.94L8.5 2.5l-.94 2.06-2.06.94zm10 10l.94 2.06.94-2.06 2.06-.94-2.06-.94-.94-2.06-.94 2.06-2.06.94z\"/><path d=\"M17.41 7.96l-1.37-1.37c-.4-.4-.92-.59-1.43-.59-.52 0-1.04.2-1.43.59L10.3 9.45l-7.72 7.72c-.78.78-.78 2.05 0 2.83L4 21.41c.39.39.9.59 1.41.59.51 0 1.02-.2 1.41-.59l7.78-7.78 2.81-2.81c.8-.78.8-2.07 0-2.86zM5.41 20L4 18.59l7.72-7.72 1.47 1.35L5.41 20z\"/>\n",
              "  </svg>\n",
              "      </button>\n",
              "      \n",
              "  <style>\n",
              "    .colab-df-container {\n",
              "      display:flex;\n",
              "      flex-wrap:wrap;\n",
              "      gap: 12px;\n",
              "    }\n",
              "\n",
              "    .colab-df-convert {\n",
              "      background-color: #E8F0FE;\n",
              "      border: none;\n",
              "      border-radius: 50%;\n",
              "      cursor: pointer;\n",
              "      display: none;\n",
              "      fill: #1967D2;\n",
              "      height: 32px;\n",
              "      padding: 0 0 0 0;\n",
              "      width: 32px;\n",
              "    }\n",
              "\n",
              "    .colab-df-convert:hover {\n",
              "      background-color: #E2EBFA;\n",
              "      box-shadow: 0px 1px 2px rgba(60, 64, 67, 0.3), 0px 1px 3px 1px rgba(60, 64, 67, 0.15);\n",
              "      fill: #174EA6;\n",
              "    }\n",
              "\n",
              "    [theme=dark] .colab-df-convert {\n",
              "      background-color: #3B4455;\n",
              "      fill: #D2E3FC;\n",
              "    }\n",
              "\n",
              "    [theme=dark] .colab-df-convert:hover {\n",
              "      background-color: #434B5C;\n",
              "      box-shadow: 0px 1px 3px 1px rgba(0, 0, 0, 0.15);\n",
              "      filter: drop-shadow(0px 1px 2px rgba(0, 0, 0, 0.3));\n",
              "      fill: #FFFFFF;\n",
              "    }\n",
              "  </style>\n",
              "\n",
              "      <script>\n",
              "        const buttonEl =\n",
              "          document.querySelector('#df-cd35300c-bd22-4d96-b35d-d3be7a7cb3c8 button.colab-df-convert');\n",
              "        buttonEl.style.display =\n",
              "          google.colab.kernel.accessAllowed ? 'block' : 'none';\n",
              "\n",
              "        async function convertToInteractive(key) {\n",
              "          const element = document.querySelector('#df-cd35300c-bd22-4d96-b35d-d3be7a7cb3c8');\n",
              "          const dataTable =\n",
              "            await google.colab.kernel.invokeFunction('convertToInteractive',\n",
              "                                                     [key], {});\n",
              "          if (!dataTable) return;\n",
              "\n",
              "          const docLinkHtml = 'Like what you see? Visit the ' +\n",
              "            '<a target=\"_blank\" href=https://colab.research.google.com/notebooks/data_table.ipynb>data table notebook</a>'\n",
              "            + ' to learn more about interactive tables.';\n",
              "          element.innerHTML = '';\n",
              "          dataTable['output_type'] = 'display_data';\n",
              "          await google.colab.output.renderOutput(dataTable, element);\n",
              "          const docLink = document.createElement('div');\n",
              "          docLink.innerHTML = docLinkHtml;\n",
              "          element.appendChild(docLink);\n",
              "        }\n",
              "      </script>\n",
              "    </div>\n",
              "  </div>\n",
              "  "
            ]
          },
          "metadata": {}
        },
        {
          "output_type": "display_data",
          "data": {
            "text/plain": [
              "<Figure size 864x504 with 1 Axes>"
            ],
            "image/png": "[encoded data removed]"
          },
          "metadata": {
            "needs_background": "light"
          }
        }
      ],
      "source": [
        "RF_ranking, rf_model, preds = rf_feature_importance(X_train,X_test,y_train)\n"
      ]
    },
    {
      "cell_type": "code",
      "source": [
        "print(f'the results for {rf_model}' + classification_report(y_test, preds))\n",
        "plot_roc_curve(rf_model,X_test,y_test)\n",
        "# Add a line to show the curve for random guessing\n",
        "plt.plot([0,1],[0,1],linestyle='--',label='Random guessing')\n",
        "plt.legend()\n",
        "plt.show()"
      ],
      "metadata": {
        "id": "HFy-ZcZH2bUz"
      },
      "execution_count": null,
      "outputs": []
    }
  ],
  "metadata": {
    "kernelspec": {
      "display_name": "AIPI510",
      "language": "python",
      "name": "python3"
    },
    "language_info": {
      "codemirror_mode": {
        "name": "ipython",
        "version": 3
      },
      "file_extension": ".py",
      "mimetype": "text/x-python",
      "name": "python",
      "nbconvert_exporter": "python",
      "pygments_lexer": "ipython3",
      "version": "3.9.13"
    },
    "orig_nbformat": 4,
    "colab": {
      "provenance": []
    }
  },
  "nbformat": 4,
  "nbformat_minor": 0
}