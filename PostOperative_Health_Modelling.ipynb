{
 "cells": [
  {
   "cell_type": "code",
   "execution_count": null,
   "metadata": {},
   "outputs": [],
   "source": [
    "import pyreadstat\n",
    "import numpy as np\n",
    "import pandas as pd\n",
    "import matplotlib.pyplot as plt \n",
    "import seaborn as sns\n",
    "import sklearn\n",
    "from sklearn import tree\n",
    "from sklearn import metrics\n",
    "from sklearn.manifold import TSNE\n",
    "from sklearn.tree import DecisionTreeClassifier\n",
    "from sklearn.ensemble import RandomForestClassifier\n",
    "from sklearn.model_selection import train_test_split \n",
    "from sklearn.model_selection import ParameterGrid"
   ]
  },
  {
   "cell_type": "code",
   "execution_count": null,
   "metadata": {},
   "outputs": [],
   "source": [
    "hip_fracture_df, hip_fracture_metadata = pyreadstat.read_sav(r'C:\\Users\\Asus\\Downloads/HipFractureQualityData.sav')\n",
    "print(dir(hip_fracture_metadata))\n"
   ]
  },
  {
   "cell_type": "code",
   "execution_count": null,
   "metadata": {},
   "outputs": [],
   "source": [
    "column_labels = hip_fracture_metadata.column_labels \n",
    "column_mapping = {column: column_labels[i] for i, column in enumerate(hip_fracture_df.columns)}\n",
    "print(column_mapping)"
   ]
  },
  {
   "cell_type": "code",
   "execution_count": null,
   "metadata": {},
   "outputs": [],
   "source": []
  },
  {
   "cell_type": "code",
   "execution_count": null,
   "metadata": {},
   "outputs": [],
   "source": [
    "hip_fracture_df = pd.DataFrame(hip_fracture_df)\n",
    "new_df = pd.DataFrame(hip_fracture_df)\n",
    "pd.set_option('display.max_columns', None)\n",
    "pd.set_option('display.max_rows', None)\n",
    "pd.set_option('display.max_colwidth', None)\n",
    "hip_fracture_df.info()\n",
    "hip_fracture_df.head()\n",
    "hip_fracture_df['RACE_NEW'].value_counts()\n",
    "\n"
   ]
  },
  {
   "cell_type": "code",
   "execution_count": null,
   "metadata": {},
   "outputs": [],
   "source": [
    "hip_fracture_df['RACE_NEW'].value_counts()"
   ]
  },
  {
   "cell_type": "code",
   "execution_count": null,
   "metadata": {},
   "outputs": [],
   "source": [
    "hip_fracture_df.head()"
   ]
  },
  {
   "cell_type": "code",
   "execution_count": null,
   "metadata": {},
   "outputs": [],
   "source": [
    "hip_fracture_df.shape"
   ]
  },
  {
   "cell_type": "code",
   "execution_count": null,
   "metadata": {},
   "outputs": [],
   "source": [
    "#  age (years), gender (female/\n",
    "# male), body mass index (BMI) (kg/m2\n",
    "# ), fracture type\n",
    "# (femoral neck Garden types 1 and 2—non-displaced/\n",
    "# femoral neck Garden type 3 and 4-displaced/intertrochanteric/\n",
    "# subtrochanteric), procedure (ORIF femoral neck, ORIF\n",
    "# inter/subtrochanteric with plate/screw implant, ORIF inter/\n",
    "# subtrochanteric with intramedullary implant), American\n",
    "# Society of Anesthesiologist (ASA) class (I/II/III/IV),\n",
    "# functional status (independent defined as patients do not\n",
    "# require assistance from another person for any activities of\n",
    "# daily living/partially depended defined as patients requires\n",
    "# some assistance from another person for activities of daily"
   ]
  },
  {
   "cell_type": "code",
   "execution_count": null,
   "metadata": {},
   "outputs": [],
   "source": [
    "# Age (years)\n",
    "# 60+ 3151 (11.2)\n",
    "# 70+ 6247 (22.1)\n",
    "# 80+ 11 691 (41.4)\n",
    "# 90+ 7118 (25.2)\n",
    "# Female sex 19 845 (70.4)\n",
    "# Body mass index (kg/m2\n",
    "# ) 24.3 (21.6–27.3)\n",
    "# Fracture type\n",
    "# Femoral neck fracture (sub capital, Garden types 1 and 2)-nondisplaced 2479 (8.8)\n",
    "# Femoral neck fracture (sub capital, Garden types 3 and 4)-displaced 8324 (29.5)\n",
    "# Intertrochanteric 15 761 (55.9)\n",
    "# Subtrochanteric 1642 (5.8)\n",
    "# ASA classification\n",
    "# I 126 (.4)\n",
    "# II 4162 (14.8)\n",
    "# III 17 631 (62.5)\n",
    "# IV 6288 (22.3)\n",
    "# Functional status\n",
    "# Independent 21 672 (76.8)\n",
    "# Partially dependent 5651 (20.0)\n",
    "# Totally dependent 884 (3.1)\n",
    "# Preoperative dementia 8668 (30.7)\n",
    "# Preoperative delirium 3714 (13.2)\n",
    "# Preoperative bone protective medication prescription 9047 (32.1)\n",
    "# Preoperative need for mobility aid 16 239 (57.6)\n",
    "# Preoperative pressure sore 971 (3.4)\n",
    "# Medical co-management\n",
    "# No 3071 (10.9)\n",
    "# Yes-co-management throughout stay 20 576 (72.9)\n",
    "# Yes-partial co-management during stay 4560 (16.2)\n",
    "# Standardized hip fracture protocol 15 808 (56.0)\n",
    "# Diabetes\n",
    "# Insulin dependent 2026 (7.2)\n",
    "# Non-insulin dependent 3035 (10.8)\n",
    "# No 23 146 (82.1)\n",
    "# Smoking 2848 (10.1)\n",
    "# Dyspnea\n",
    "# At rest 273 (1.0)\n",
    "# Moderate exertion 1880 (6.7)\n",
    "# No 26 054 (92.4)\n",
    "# Chronic obstructive pulmonary disorder 3035 (10.8)\n",
    "# Congestive heart failure 1051 (3.7)\n",
    "# Hypertension requiring medication 19 120 (67.8)\n",
    "# Acute renal failure 150 (.5)\n",
    "# Dialysis 522 (1.9)\n",
    "# Disseminated cancer 407 (1.4)\n",
    "# Wound infection 1095 (3.9)\n",
    "# Preoperative steroid use 1476 (5.2)\n",
    "# Weight loss >10% body weight in last 6 months 384 (1.4)\n",
    "# Bleeding disorder 4796 (17.0)\n",
    "# Transfusion 1205 (4.3)\n",
    "# (continued)\n",
    "# 4 Geriatric Orthopaedic Surgery & Rehabilitation 12(0)\n",
    "# Results\n",
    "# In total, 28 207 patients underwent surgery for a hip\n",
    "# fracture of which 8030 (28.5%) developed a delirium\n",
    "# within 30 days after surgery (Table 1). The majority of\n",
    "# patients was female (n = 19 845, 70.4%) and aged 80 years\n",
    "# or older (n = 18 809, 66.6%).\n",
    "# Variables Selection\n",
    "# Variables selection identified the following predictive\n",
    "# variables for prediction of postoperative delirium: (1) age,\n",
    "# (2) ASA class, (3) functional status, (4) preoperative dementia, (5) preoperative delirium, and (6) preoperative\n",
    "# need for mobility-aid (Figure 1).\n",
    "# Model Performance\n",
    "# The model performance of the conducted algorithms varied\n",
    "# as measured by c-statistic from .67 to .79. The calibration\n",
    "# slopes ranged from .44 to 1.02, and the calibration intercepts\n",
    "# ranged from \u0001.01 to 1.06. The Null model Brier score was\n",
    "# .20, calculated based on an incidence of 28.5%. The Brier\n",
    "# scores ranged from .15 to .18 (Table 2).\n",
    "# Although model performance metrics were comparable,\n",
    "# except the RF algorithm, the PLR model had the most\n",
    "# clinically meaningful variable importance and was\n",
    "# therefore chosen as the best algorithm and therefore the\n",
    "# final model (Figure 1).\n",
    "# Decision curve analysis of the PLR model revealed that\n",
    "# decision changes based on the model outperformed not\n",
    "# only the default strategies of decision change looking at all\n",
    "# patients or no patients, but also that the decision changes\n",
    "# based on presence of only a preoperative delirium alone\n",
    "# (Figure 2).\n",
    "# Available Web-Application\n",
    "# The PLR algorithm was incorporated into a web-based\n",
    "# application and deployed as an open-access available tool\n",
    "# for clinicians: https://sorg-apps.shinyapps.io/hipfxdelirium/\n",
    "# Table 1. (continued)\n",
    "# Variable n (%) | Median (IQR)\n",
    "# Systemic inflammatory response syndrome (SIRS)\n",
    "# None 25 478 (90.3)\n",
    "# SIRS 2566 (9.1)\n",
    "# Sepsis 163 (.6)\n",
    "# Sodium (mg/dL) 138.0 (136.0–140.0)\n",
    "# Creatinine (mg/dL) .88 (.70–1.13)\n",
    "# White blood cell (×103\n",
    "# /µL) 9.60 (7.60–11.90)\n",
    "# Hematocrit (%) 35.0 (31.0–38.6)\n",
    "# Platelet (×103\n",
    "# /µL)"
   ]
  },
  {
   "cell_type": "code",
   "execution_count": null,
   "metadata": {},
   "outputs": [],
   "source": [
    "#(1) age,\n",
    "# (2) ASA class, (3) functional status, (4) preoperative dementia, (5) preoperative delirium, and (6) preoperative\n",
    "# need for mobility-aid (Figure 1)"
   ]
  },
  {
   "cell_type": "code",
   "execution_count": null,
   "metadata": {},
   "outputs": [],
   "source": [
    "readd_col = pd.DataFrame(new_df[\"ReadmissionPost_117\"])"
   ]
  },
  {
   "cell_type": "code",
   "execution_count": null,
   "metadata": {},
   "outputs": [],
   "source": [
    "readd_col.head()"
   ]
  },
  {
   "cell_type": "code",
   "execution_count": null,
   "metadata": {},
   "outputs": [],
   "source": [
    "new_df.drop(new_df.iloc[:, 0:225], inplace=True, axis=1)"
   ]
  },
  {
   "cell_type": "code",
   "execution_count": null,
   "metadata": {},
   "outputs": [],
   "source": [
    "new_df.head()"
   ]
  },
  {
   "cell_type": "code",
   "execution_count": null,
   "metadata": {},
   "outputs": [],
   "source": [
    "new_df.drop(['BMICategories','ReadmissionPost_117','ReadmissionPost_119','Readmission2Post_1','Readmission2Post_2','Readmission2Post_3','Readmission3Post_4','Readmission3Post_5'], axis=1,inplace=True)"
   ]
  },
  {
   "cell_type": "code",
   "execution_count": null,
   "metadata": {},
   "outputs": [],
   "source": [
    "new_df.head()"
   ]
  },
  {
   "cell_type": "code",
   "execution_count": null,
   "metadata": {},
   "outputs": [],
   "source": [
    "new_df[\"ReadmissionPost_117\"] = readd_col"
   ]
  },
  {
   "cell_type": "code",
   "execution_count": null,
   "metadata": {},
   "outputs": [],
   "source": [
    "new_df.head(20)"
   ]
  },
  {
   "cell_type": "code",
   "execution_count": null,
   "metadata": {},
   "outputs": [],
   "source": [
    "new_df.shape"
   ]
  },
  {
   "cell_type": "code",
   "execution_count": null,
   "metadata": {},
   "outputs": [],
   "source": [
    "new_df.isnull().values.any()"
   ]
  },
  {
   "cell_type": "code",
   "execution_count": null,
   "metadata": {},
   "outputs": [],
   "source": [
    "new_df.isnull().sum().sum()"
   ]
  },
  {
   "cell_type": "code",
   "execution_count": null,
   "metadata": {},
   "outputs": [],
   "source": [
    "new_df.dropna(inplace=True)"
   ]
  },
  {
   "cell_type": "code",
   "execution_count": null,
   "metadata": {},
   "outputs": [],
   "source": [
    "new_df.shape"
   ]
  },
  {
   "cell_type": "code",
   "execution_count": null,
   "metadata": {},
   "outputs": [],
   "source": [
    "new_df.head(20)"
   ]
  },
  {
   "cell_type": "code",
   "execution_count": null,
   "metadata": {},
   "outputs": [],
   "source": [
    "new_df.drop(['PropensityScore22','casematch22','BMI'], axis=1,inplace=True)"
   ]
  },
  {
   "cell_type": "code",
   "execution_count": null,
   "metadata": {},
   "outputs": [],
   "source": [
    "new_df.head(20)"
   ]
  },
  {
   "cell_type": "code",
   "execution_count": null,
   "metadata": {},
   "outputs": [],
   "source": [
    "X = hip_fracture_df.iloc[:,[1,2,4,14,15,25,34,35,36,37,110]]\n",
    "print(X)\n",
    "# y = hip_fracture_df.iloc[:,[13]]\n",
    "# print(y)\n"
   ]
  },
  {
   "cell_type": "code",
   "execution_count": null,
   "metadata": {},
   "outputs": [],
   "source": [
    "y = hip_fracture_df.iloc[:,[198]]\n",
    "print(y)\n"
   ]
  },
  {
   "cell_type": "code",
   "execution_count": null,
   "metadata": {},
   "outputs": [],
   "source": [
    "from sklearn import preprocessing\n",
    "#,'HIP_PREOP_DELIRIUM','HIP_PREOP_MOBAID', 'FNSTATUS2', 'ASACLAS'\n",
    "label_encoder = preprocessing.LabelEncoder()\n",
    "\n",
    "X.apply(label_encoder.fit_transform)"
   ]
  },
  {
   "cell_type": "code",
   "execution_count": null,
   "metadata": {},
   "outputs": [],
   "source": [
    "y['READMISSION1'] = label_encoder.fit_transform(y['READMISSION1'])\n",
    "print(y['READMISSION1'].unique())"
   ]
  },
  {
   "cell_type": "code",
   "execution_count": null,
   "metadata": {},
   "outputs": [],
   "source": [
    "from sklearn import preprocessing\n",
    "#,'HIP_PREOP_DELIRIUM','HIP_PREOP_MOBAID', 'FNSTATUS2', 'ASACLAS'\n",
    "#HIP_PREOP_DEMENTIA\tHIP_PREOP_DELIRIUM\tHIP_PREOP_BONEMEDS\tHIP_PREOP_MOBAID\tHIP_PREOP_PRESSORE\n",
    "#HIP_POST_PRESSORE\tHIP_POST_DELIRIUM\tHIP_POST_MOBAID\n",
    "#RACE_NEW\n",
    "#DIABETES\tSMOKE\tDYSPNEA\t\n",
    "label_encoder = preprocessing.LabelEncoder()\n",
    "  \n",
    "# Encode labels in column 'species'.\n",
    "# X['HIP_PREOP_DEMENTIA']= label_encoder.fit_transform(X['HIP_PREOP_DEMENTIA'])\n",
    "# X['HIP_PREOP_DELIRIUM']= label_encoder.fit_transform(X['HIP_PREOP_DELIRIUM'])\n",
    "# X['HIP_PREOP_MOBAID']= label_encoder.fit_transform(X['HIP_PREOP_MOBAID'])\n",
    "# X['FNSTATUS2']= label_encoder.fit_transform(X['FNSTATUS2'])\n",
    "# X['ASACLAS']= label_encoder.fit_transform(X['ASACLAS'])\n",
    "# X['AGE']= label_encoder.fit_transform(X['AGE'])\n",
    "# X['HIP_POST_PRESSORE']= label_encoder.fit_transform(X['HIP_POST_PRESSORE'])\n",
    "# X['HIP_POST_DELIRIUM']= label_encoder.fit_transform(X['HIP_POST_DELIRIUM'])\n",
    "# X['HIP_POST_MOBAID']= label_encoder.fit_transform(X['HIP_POST_MOBAID'])\n",
    "# X['RACE_NEW']= label_encoder.fit_transform(X['RACE_NEW'])\n",
    "# X['DIABETES']= label_encoder.fit_transform(X['DIABETES'])\n",
    "# X['SMOKE']= label_encoder.fit_transform(X['SMOKE'])\n",
    "# X['DYSPNEA']= label_encoder.fit_transform(X['DYSPNEA'])\n",
    "  \n",
    "# print(X['HIP_PREOP_DEMENTIA'].unique())\n",
    "# print(X['HIP_PREOP_DELIRIUM'].unique())\n",
    "# print(X['HIP_PREOP_MOBAID'].unique())\n",
    "# print(X['FNSTATUS2'].unique())\n",
    "# print(X['ASACLAS'].unique())\n",
    "# print(X['AGE'].unique())\n",
    "# print(X['HIP_POST_PRESSORE'].unique())\n",
    "# print(X['HIP_POST_DELIRIUM'].unique())\n",
    "# print(X['HIP_POST_MOBAID'].unique())\n",
    "# print(X['RACE_NEW'].unique())\n",
    "# print(X['DIABETES'].unique())\n",
    "# print(X['SMOKE'].unique())\n",
    "# print(X['DYSPNEA'].unique())\n",
    "\n",
    "# y['HIP_POST_DELIRIUM'] = label_encoder.fit_transform(y['HIP_POST_DELIRIUM'])\n",
    "# print(y['HIP_POST_DELIRIUM'].unique())"
   ]
  },
  {
   "cell_type": "code",
   "execution_count": null,
   "metadata": {},
   "outputs": [],
   "source": [
    "X_train, X_test, y_train, y_test = train_test_split(X, y, test_size=0.3, random_state=0)"
   ]
  },
  {
   "cell_type": "code",
   "execution_count": null,
   "metadata": {},
   "outputs": [],
   "source": [
    "# Create a Random Forest Classifier\n",
    "rf = RandomForestClassifier(criterion='gini', max_depth=5, n_estimators=20, random_state=0)\n",
    "\n",
    "# Train the model using the training sets\n",
    "rf.fit(X_train,y_train)\n",
    "y_pred = rf.predict(X_test)\n",
    "\n",
    "# Model Accuracy, how often is the classifier correct?\n",
    "print(\"Accuracy:\",metrics.accuracy_score(y_test, y_pred))"
   ]
  },
  {
   "cell_type": "code",
   "execution_count": null,
   "metadata": {},
   "outputs": [],
   "source": [
    "# Please write your code below:\n",
    "\n",
    "param = ParameterGrid({'n_estimators': np.arange(50, 201, 50),\n",
    "         'criterion': ['gini', 'entropy'],\n",
    "         'max_depth': np.arange(5, 21, 5)\n",
    "         }\n",
    ")\n",
    "# rfx = GridSearchCV(RandomForestClassifier(random_state=0), param)\n",
    "# rfx = rfx.fit(X_train,y_train)\n",
    "\n",
    "acc = 0\n",
    "for para in param:\n",
    "  n_es,cri, maxd = para['n_estimators'],para['criterion'],para['max_depth']\n",
    "  rfx = RandomForestClassifier(criterion=cri, max_depth=maxd, n_estimators=n_es, random_state=0)\n",
    "  rfx = rfx.fit(X_train,y_train)\n",
    "  y_pred_rfx = rfx.predict(X_test)\n",
    "  accu = metrics.accuracy_score(y_test,y_pred_rfx)\n",
    "  if accu > acc:\n",
    "    acc = accu\n",
    "    par1 = para\n",
    "\n",
    "print(para)\n",
    "print(\"Accuracy\",acc)"
   ]
  },
  {
   "cell_type": "code",
   "execution_count": null,
   "metadata": {},
   "outputs": [],
   "source": [
    "# get importance\n",
    "rf_importance = rfx.feature_importances_\n",
    "\n",
    "# summarize and print out the feature importance\n",
    "non_zero_index_list_rf = [i for i, v in enumerate(rf_importance) if v != 0]\n",
    "\n",
    "# remove all zero value entries\n",
    "non_zero_feature_names_rf = [list(X.columns)[i] for i in non_zero_index_list_rf]\n",
    "non_zero_importance_rf = [rf_importance[i] for i in non_zero_index_list_rf]\n",
    "\n",
    "# draw graph\n",
    "fig,ax = plt.subplots(figsize=(50,50))\n",
    "plt.barh(non_zero_feature_names_rf, non_zero_importance_rf)\n",
    "ax.set_yticklabels(non_zero_feature_names_rf, fontsize=12)\n",
    "plt.xlabel('Entropy Importance')\n",
    "plt.ylabel('Features (with non-zero entropy importance)')\n",
    "plt.show()"
   ]
  },
  {
   "cell_type": "code",
   "execution_count": null,
   "metadata": {},
   "outputs": [],
   "source": []
  }
 ],
 "metadata": {
  "kernelspec": {
   "display_name": "Python 3",
   "language": "python",
   "name": "python3"
  },
  "language_info": {
   "codemirror_mode": {
    "name": "ipython",
    "version": 3
   },
   "file_extension": ".py",
   "mimetype": "text/x-python",
   "name": "python",
   "nbconvert_exporter": "python",
   "pygments_lexer": "ipython3",
   "version": "3.9.5"
  },
  "orig_nbformat": 4,
  "vscode": {
   "interpreter": {
    "hash": "c25269a4018224bb4e3cb6b79397037e31419b0dedc1b97e47175df2e08dbf7b"
   }
  }
 },
 "nbformat": 4,
 "nbformat_minor": 2
}
